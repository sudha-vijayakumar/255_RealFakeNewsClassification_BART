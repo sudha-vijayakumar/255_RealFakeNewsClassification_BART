{
  "nbformat": 4,
  "nbformat_minor": 0,
  "metadata": {
    "colab": {
      "name": "Keras Model Creation Notebook.ipynb",
      "provenance": [],
      "collapsed_sections": [],
      "toc_visible": true
    },
    "kernelspec": {
      "display_name": "Python 3",
      "language": "python",
      "name": "python3"
    },
    "language_info": {
      "codemirror_mode": {
        "name": "ipython",
        "version": 3
      },
      "file_extension": ".py",
      "mimetype": "text/x-python",
      "name": "python",
      "nbconvert_exporter": "python",
      "pygments_lexer": "ipython3",
      "version": "3.8.3"
    }
  },
  "cells": [
    {
      "cell_type": "code",
      "metadata": {
        "id": "eJRKKN2GRI2o"
      },
      "source": [
        "import logging\n",
        "logging.basicConfig(format='%(levelname)s : %(message)s', level=logging.INFO)\n",
        "logging.root.level = logging.INFO "
      ],
      "execution_count": null,
      "outputs": []
    },
    {
      "cell_type": "code",
      "metadata": {
        "colab": {
          "base_uri": "https://localhost:8080/"
        },
        "id": "j0OkkMyFRI2s",
        "outputId": "928ea783-eeb6-4e22-c6f0-95abdc71713f"
      },
      "source": [
        "import matplotlib.pyplot as plt\n",
        "import seaborn as sns\n",
        "import pandas as pd\n",
        "import numpy as np\n",
        "import nltk\n",
        "import sys\n",
        "import re\n",
        "import tensorflow as tf\n",
        "import json\n",
        "import os\n",
        "from keras.preprocessing.text import Tokenizer\n",
        "from keras.preprocessing.sequence import pad_sequences\n",
        "\n",
        "\n",
        "from string import punctuation\n",
        "from nltk.corpus import stopwords\n",
        "from gensim.models import Doc2Vec\n",
        "from nltk.tokenize import word_tokenize\n",
        "from nltk.stem import WordNetLemmatizer\n",
        "from gensim.models.doc2vec import TaggedDocument\n",
        "from sklearn.linear_model import LogisticRegression\n",
        "from sklearn.model_selection import train_test_split\n",
        "from sklearn.feature_extraction.text import TfidfVectorizer\n",
        "from sklearn.metrics import confusion_matrix\n",
        "from sklearn.manifold import TSNE\n",
        "\n",
        "nltk.download('stopwords')\n",
        "nltk.download('punkt')\n",
        "nltk.download('wordnet')"
      ],
      "execution_count": null,
      "outputs": [
        {
          "output_type": "stream",
          "text": [
            "[nltk_data] Downloading package stopwords to /root/nltk_data...\n",
            "[nltk_data]   Unzipping corpora/stopwords.zip.\n",
            "[nltk_data] Downloading package punkt to /root/nltk_data...\n",
            "[nltk_data]   Unzipping tokenizers/punkt.zip.\n",
            "[nltk_data] Downloading package wordnet to /root/nltk_data...\n",
            "[nltk_data]   Unzipping corpora/wordnet.zip.\n"
          ],
          "name": "stdout"
        },
        {
          "output_type": "execute_result",
          "data": {
            "text/plain": [
              "True"
            ]
          },
          "metadata": {
            "tags": []
          },
          "execution_count": 1
        }
      ]
    },
    {
      "cell_type": "markdown",
      "metadata": {
        "id": "oPvQ-I86FYGt"
      },
      "source": [
        "### Pull BART embedding data "
      ]
    },
    {
      "cell_type": "code",
      "metadata": {
        "colab": {
          "base_uri": "https://localhost:8080/"
        },
        "id": "aY4KPpJcWX0P",
        "outputId": "813db8c4-b622-4e6d-ddb8-96fe737db9d6"
      },
      "source": [
        "# Data resaved to local Google Drive\n",
        "from google.colab import drive\n",
        "drive.mount('/content/drive')"
      ],
      "execution_count": null,
      "outputs": [
        {
          "output_type": "stream",
          "text": [
            "Mounted at /content/drive\n"
          ],
          "name": "stdout"
        }
      ]
    },
    {
      "cell_type": "code",
      "metadata": {
        "colab": {
          "base_uri": "https://localhost:8080/"
        },
        "id": "llEPIHIT536k",
        "outputId": "7c837abd-dad6-43a9-a502-e105c0573dc0"
      },
      "source": [
        "!wget \"https://raw.githubusercontent.com/255-DataMining/termproject/main/bart_doc_embeddings.zip?token=AEVQ7D44HLZW77XOZDW4R7C7VTX54\" -O bart_doc_embeddings.zip\n",
        "\n",
        "!unzip /content/drive/My\\ Drive/bart_doc_embeddings.zip"
      ],
      "execution_count": null,
      "outputs": [
        {
          "output_type": "stream",
          "text": [
            "Archive:  /content/drive/My Drive/bart_doc_embeddings.zip\n",
            "  inflating: bart_doc_embeddings     \n"
          ],
          "name": "stdout"
        }
      ]
    },
    {
      "cell_type": "code",
      "metadata": {
        "id": "YlRGGDzy54DE"
      },
      "source": [
        "import pandas as pd\n",
        "embeddings_df = pd.read_pickle('bart_doc_embeddings')"
      ],
      "execution_count": null,
      "outputs": []
    },
    {
      "cell_type": "code",
      "metadata": {
        "id": "ejrVwlX854JS"
      },
      "source": [
        "target = embeddings_df['Target']\n",
        "del embeddings_df['Target'] # remove target column from dataframe"
      ],
      "execution_count": null,
      "outputs": []
    },
    {
      "cell_type": "code",
      "metadata": {
        "id": "u9IcDJt1RI3O"
      },
      "source": [
        "from sklearn.model_selection import train_test_split\n",
        "X_train, X_test, y_train, y_test = train_test_split(embeddings_df, target, test_size = 0.2, shuffle=True)"
      ],
      "execution_count": null,
      "outputs": []
    },
    {
      "cell_type": "code",
      "metadata": {
        "colab": {
          "base_uri": "https://localhost:8080/",
          "height": 231
        },
        "id": "FiQw8Uc4RI3R",
        "outputId": "cafaa53e-7a94-4bd4-8047-67e5eba0011e"
      },
      "source": [
        "max_features = 20000\n",
        "tokenizer = Tokenizer(num_words = max_features)\n",
        "tokenizer.fit_on_texts(list(df['Text'].values))\n",
        "X_train = tokenizer.texts_to_sequences(X_train)\n",
        "X_test = tokenizer.texts_to_sequences(X_test)"
      ],
      "execution_count": null,
      "outputs": [
        {
          "output_type": "error",
          "ename": "NameError",
          "evalue": "ignored",
          "traceback": [
            "\u001b[0;31m---------------------------------------------------------------------------\u001b[0m",
            "\u001b[0;31mNameError\u001b[0m                                 Traceback (most recent call last)",
            "\u001b[0;32m<ipython-input-9-bf5833af69df>\u001b[0m in \u001b[0;36m<module>\u001b[0;34m()\u001b[0m\n\u001b[1;32m      1\u001b[0m \u001b[0mmax_features\u001b[0m \u001b[0;34m=\u001b[0m \u001b[0;36m20000\u001b[0m\u001b[0;34m\u001b[0m\u001b[0;34m\u001b[0m\u001b[0m\n\u001b[1;32m      2\u001b[0m \u001b[0mtokenizer\u001b[0m \u001b[0;34m=\u001b[0m \u001b[0mTokenizer\u001b[0m\u001b[0;34m(\u001b[0m\u001b[0mnum_words\u001b[0m \u001b[0;34m=\u001b[0m \u001b[0mmax_features\u001b[0m\u001b[0;34m)\u001b[0m\u001b[0;34m\u001b[0m\u001b[0;34m\u001b[0m\u001b[0m\n\u001b[0;32m----> 3\u001b[0;31m \u001b[0mtokenizer\u001b[0m\u001b[0;34m.\u001b[0m\u001b[0mfit_on_texts\u001b[0m\u001b[0;34m(\u001b[0m\u001b[0mlist\u001b[0m\u001b[0;34m(\u001b[0m\u001b[0mdf\u001b[0m\u001b[0;34m[\u001b[0m\u001b[0;34m'Text'\u001b[0m\u001b[0;34m]\u001b[0m\u001b[0;34m.\u001b[0m\u001b[0mvalues\u001b[0m\u001b[0;34m)\u001b[0m\u001b[0;34m)\u001b[0m\u001b[0;34m\u001b[0m\u001b[0;34m\u001b[0m\u001b[0m\n\u001b[0m\u001b[1;32m      4\u001b[0m \u001b[0mX_train\u001b[0m \u001b[0;34m=\u001b[0m \u001b[0mtokenizer\u001b[0m\u001b[0;34m.\u001b[0m\u001b[0mtexts_to_sequences\u001b[0m\u001b[0;34m(\u001b[0m\u001b[0mX_train\u001b[0m\u001b[0;34m)\u001b[0m\u001b[0;34m\u001b[0m\u001b[0;34m\u001b[0m\u001b[0m\n\u001b[1;32m      5\u001b[0m \u001b[0mX_test\u001b[0m \u001b[0;34m=\u001b[0m \u001b[0mtokenizer\u001b[0m\u001b[0;34m.\u001b[0m\u001b[0mtexts_to_sequences\u001b[0m\u001b[0;34m(\u001b[0m\u001b[0mX_test\u001b[0m\u001b[0;34m)\u001b[0m\u001b[0;34m\u001b[0m\u001b[0;34m\u001b[0m\u001b[0m\n",
            "\u001b[0;31mNameError\u001b[0m: name 'df' is not defined"
          ]
        }
      ]
    },
    {
      "cell_type": "code",
      "metadata": {
        "id": "m_zZKaMiRI3T"
      },
      "source": [
        "X_train = pad_sequences(X_train, maxlen = maxlen)\n",
        "X_test = pad_sequences(X_test, maxlen = maxlen)"
      ],
      "execution_count": null,
      "outputs": []
    },
    {
      "cell_type": "code",
      "metadata": {
        "id": "7CEYqXjPRI3W"
      },
      "source": [
        "X_train = np.array(X_train)\n",
        "X_test = np.array(X_test)\n",
        "y_train = np.array(y_train)\n",
        "y_test = np.array(y_test)"
      ],
      "execution_count": null,
      "outputs": []
    },
    {
      "cell_type": "code",
      "metadata": {
        "colab": {
          "base_uri": "https://localhost:8080/",
          "height": 439
        },
        "id": "bPtZVYO5RI3Y",
        "outputId": "b6019218-73ce-432e-b1a3-861d51e724f4"
      },
      "source": [
        "X_train"
      ],
      "execution_count": null,
      "outputs": [
        {
          "output_type": "execute_result",
          "data": {
            "text/html": [
              "<div>\n",
              "<style scoped>\n",
              "    .dataframe tbody tr th:only-of-type {\n",
              "        vertical-align: middle;\n",
              "    }\n",
              "\n",
              "    .dataframe tbody tr th {\n",
              "        vertical-align: top;\n",
              "    }\n",
              "\n",
              "    .dataframe thead th {\n",
              "        text-align: right;\n",
              "    }\n",
              "</style>\n",
              "<table border=\"1\" class=\"dataframe\">\n",
              "  <thead>\n",
              "    <tr style=\"text-align: right;\">\n",
              "      <th></th>\n",
              "      <th>0</th>\n",
              "      <th>1</th>\n",
              "      <th>2</th>\n",
              "      <th>3</th>\n",
              "      <th>4</th>\n",
              "      <th>5</th>\n",
              "      <th>6</th>\n",
              "      <th>7</th>\n",
              "      <th>8</th>\n",
              "      <th>9</th>\n",
              "      <th>10</th>\n",
              "      <th>11</th>\n",
              "      <th>12</th>\n",
              "      <th>13</th>\n",
              "      <th>14</th>\n",
              "      <th>15</th>\n",
              "      <th>16</th>\n",
              "      <th>17</th>\n",
              "      <th>18</th>\n",
              "      <th>19</th>\n",
              "      <th>20</th>\n",
              "      <th>21</th>\n",
              "      <th>22</th>\n",
              "      <th>23</th>\n",
              "      <th>24</th>\n",
              "      <th>25</th>\n",
              "      <th>26</th>\n",
              "      <th>27</th>\n",
              "      <th>28</th>\n",
              "      <th>29</th>\n",
              "      <th>30</th>\n",
              "      <th>31</th>\n",
              "      <th>32</th>\n",
              "      <th>33</th>\n",
              "      <th>34</th>\n",
              "      <th>35</th>\n",
              "      <th>36</th>\n",
              "      <th>37</th>\n",
              "      <th>38</th>\n",
              "      <th>39</th>\n",
              "      <th>...</th>\n",
              "      <th>984</th>\n",
              "      <th>985</th>\n",
              "      <th>986</th>\n",
              "      <th>987</th>\n",
              "      <th>988</th>\n",
              "      <th>989</th>\n",
              "      <th>990</th>\n",
              "      <th>991</th>\n",
              "      <th>992</th>\n",
              "      <th>993</th>\n",
              "      <th>994</th>\n",
              "      <th>995</th>\n",
              "      <th>996</th>\n",
              "      <th>997</th>\n",
              "      <th>998</th>\n",
              "      <th>999</th>\n",
              "      <th>1000</th>\n",
              "      <th>1001</th>\n",
              "      <th>1002</th>\n",
              "      <th>1003</th>\n",
              "      <th>1004</th>\n",
              "      <th>1005</th>\n",
              "      <th>1006</th>\n",
              "      <th>1007</th>\n",
              "      <th>1008</th>\n",
              "      <th>1009</th>\n",
              "      <th>1010</th>\n",
              "      <th>1011</th>\n",
              "      <th>1012</th>\n",
              "      <th>1013</th>\n",
              "      <th>1014</th>\n",
              "      <th>1015</th>\n",
              "      <th>1016</th>\n",
              "      <th>1017</th>\n",
              "      <th>1018</th>\n",
              "      <th>1019</th>\n",
              "      <th>1020</th>\n",
              "      <th>1021</th>\n",
              "      <th>1022</th>\n",
              "      <th>1023</th>\n",
              "    </tr>\n",
              "  </thead>\n",
              "  <tbody>\n",
              "    <tr>\n",
              "      <th>45440</th>\n",
              "      <td>-0.134450</td>\n",
              "      <td>0.262440</td>\n",
              "      <td>0.578321</td>\n",
              "      <td>-1.077683</td>\n",
              "      <td>-0.356566</td>\n",
              "      <td>-0.501722</td>\n",
              "      <td>-0.522065</td>\n",
              "      <td>0.074667</td>\n",
              "      <td>-0.342787</td>\n",
              "      <td>0.252209</td>\n",
              "      <td>0.388035</td>\n",
              "      <td>-0.199644</td>\n",
              "      <td>-0.136609</td>\n",
              "      <td>-0.501038</td>\n",
              "      <td>0.820075</td>\n",
              "      <td>0.135116</td>\n",
              "      <td>0.666309</td>\n",
              "      <td>-0.363225</td>\n",
              "      <td>0.178121</td>\n",
              "      <td>0.273393</td>\n",
              "      <td>4.074825</td>\n",
              "      <td>0.026011</td>\n",
              "      <td>0.690269</td>\n",
              "      <td>-0.110360</td>\n",
              "      <td>0.108706</td>\n",
              "      <td>-0.495936</td>\n",
              "      <td>-0.511397</td>\n",
              "      <td>-0.029927</td>\n",
              "      <td>0.072510</td>\n",
              "      <td>0.940371</td>\n",
              "      <td>-0.467790</td>\n",
              "      <td>-0.711587</td>\n",
              "      <td>-0.099095</td>\n",
              "      <td>-0.158908</td>\n",
              "      <td>-0.463326</td>\n",
              "      <td>-0.402371</td>\n",
              "      <td>-0.844128</td>\n",
              "      <td>0.116822</td>\n",
              "      <td>-0.297042</td>\n",
              "      <td>-0.266423</td>\n",
              "      <td>...</td>\n",
              "      <td>-0.780134</td>\n",
              "      <td>-0.047374</td>\n",
              "      <td>0.420634</td>\n",
              "      <td>-0.244636</td>\n",
              "      <td>-0.423883</td>\n",
              "      <td>-0.154868</td>\n",
              "      <td>-0.390107</td>\n",
              "      <td>-0.010902</td>\n",
              "      <td>-0.761026</td>\n",
              "      <td>-0.121108</td>\n",
              "      <td>-0.484754</td>\n",
              "      <td>-0.751321</td>\n",
              "      <td>0.060033</td>\n",
              "      <td>-0.494115</td>\n",
              "      <td>0.773746</td>\n",
              "      <td>0.223569</td>\n",
              "      <td>-0.070448</td>\n",
              "      <td>-0.273847</td>\n",
              "      <td>0.146313</td>\n",
              "      <td>-0.001090</td>\n",
              "      <td>0.336629</td>\n",
              "      <td>-0.417566</td>\n",
              "      <td>-0.294803</td>\n",
              "      <td>-0.681473</td>\n",
              "      <td>0.463959</td>\n",
              "      <td>-0.396953</td>\n",
              "      <td>0.078303</td>\n",
              "      <td>-3.402322</td>\n",
              "      <td>0.006979</td>\n",
              "      <td>-0.481918</td>\n",
              "      <td>-0.483600</td>\n",
              "      <td>-0.137464</td>\n",
              "      <td>0.070677</td>\n",
              "      <td>1.301823</td>\n",
              "      <td>-0.478286</td>\n",
              "      <td>-0.343352</td>\n",
              "      <td>0.431994</td>\n",
              "      <td>-0.028658</td>\n",
              "      <td>0.590625</td>\n",
              "      <td>-0.374684</td>\n",
              "    </tr>\n",
              "    <tr>\n",
              "      <th>4682</th>\n",
              "      <td>-0.071097</td>\n",
              "      <td>0.650376</td>\n",
              "      <td>0.105896</td>\n",
              "      <td>-0.975207</td>\n",
              "      <td>-0.227172</td>\n",
              "      <td>-0.302817</td>\n",
              "      <td>-0.705155</td>\n",
              "      <td>0.258375</td>\n",
              "      <td>-0.335785</td>\n",
              "      <td>0.031485</td>\n",
              "      <td>-0.264432</td>\n",
              "      <td>0.262880</td>\n",
              "      <td>-0.383808</td>\n",
              "      <td>0.042080</td>\n",
              "      <td>0.222424</td>\n",
              "      <td>-0.035038</td>\n",
              "      <td>0.220420</td>\n",
              "      <td>-0.274977</td>\n",
              "      <td>0.569885</td>\n",
              "      <td>0.446317</td>\n",
              "      <td>4.058769</td>\n",
              "      <td>0.173747</td>\n",
              "      <td>0.219695</td>\n",
              "      <td>-0.410815</td>\n",
              "      <td>-0.396934</td>\n",
              "      <td>-0.631219</td>\n",
              "      <td>-0.561822</td>\n",
              "      <td>-0.339196</td>\n",
              "      <td>-0.010965</td>\n",
              "      <td>0.202776</td>\n",
              "      <td>0.039486</td>\n",
              "      <td>-0.572300</td>\n",
              "      <td>0.457579</td>\n",
              "      <td>0.198336</td>\n",
              "      <td>-0.373248</td>\n",
              "      <td>-0.141867</td>\n",
              "      <td>-0.835898</td>\n",
              "      <td>-0.313361</td>\n",
              "      <td>-0.328249</td>\n",
              "      <td>-0.388132</td>\n",
              "      <td>...</td>\n",
              "      <td>-0.322029</td>\n",
              "      <td>0.069437</td>\n",
              "      <td>0.592489</td>\n",
              "      <td>-0.126234</td>\n",
              "      <td>-0.179142</td>\n",
              "      <td>-0.207534</td>\n",
              "      <td>-0.549950</td>\n",
              "      <td>0.209278</td>\n",
              "      <td>-0.324933</td>\n",
              "      <td>-0.096700</td>\n",
              "      <td>-0.744409</td>\n",
              "      <td>-0.681939</td>\n",
              "      <td>-0.075660</td>\n",
              "      <td>-0.288228</td>\n",
              "      <td>0.473865</td>\n",
              "      <td>-0.125110</td>\n",
              "      <td>-0.095247</td>\n",
              "      <td>-0.163965</td>\n",
              "      <td>-0.066139</td>\n",
              "      <td>0.214853</td>\n",
              "      <td>0.085618</td>\n",
              "      <td>-0.242203</td>\n",
              "      <td>-0.416534</td>\n",
              "      <td>-0.659860</td>\n",
              "      <td>0.062063</td>\n",
              "      <td>0.124640</td>\n",
              "      <td>0.384943</td>\n",
              "      <td>-4.263932</td>\n",
              "      <td>0.250174</td>\n",
              "      <td>-0.185871</td>\n",
              "      <td>-0.637177</td>\n",
              "      <td>-0.480210</td>\n",
              "      <td>0.340123</td>\n",
              "      <td>1.285411</td>\n",
              "      <td>-1.049078</td>\n",
              "      <td>-0.914834</td>\n",
              "      <td>-0.563537</td>\n",
              "      <td>-0.244260</td>\n",
              "      <td>0.535899</td>\n",
              "      <td>-0.951509</td>\n",
              "    </tr>\n",
              "    <tr>\n",
              "      <th>2552</th>\n",
              "      <td>-0.064202</td>\n",
              "      <td>0.351255</td>\n",
              "      <td>0.179642</td>\n",
              "      <td>-1.092753</td>\n",
              "      <td>-0.236207</td>\n",
              "      <td>-0.495307</td>\n",
              "      <td>-0.545382</td>\n",
              "      <td>-0.010428</td>\n",
              "      <td>-0.380019</td>\n",
              "      <td>0.084189</td>\n",
              "      <td>-0.050136</td>\n",
              "      <td>-0.247001</td>\n",
              "      <td>-0.074742</td>\n",
              "      <td>0.162428</td>\n",
              "      <td>0.268178</td>\n",
              "      <td>-0.453305</td>\n",
              "      <td>0.268456</td>\n",
              "      <td>0.071911</td>\n",
              "      <td>0.705507</td>\n",
              "      <td>0.600100</td>\n",
              "      <td>4.130463</td>\n",
              "      <td>0.581900</td>\n",
              "      <td>0.286419</td>\n",
              "      <td>-0.500350</td>\n",
              "      <td>-0.293510</td>\n",
              "      <td>-0.416525</td>\n",
              "      <td>-0.898593</td>\n",
              "      <td>-0.500154</td>\n",
              "      <td>0.379782</td>\n",
              "      <td>0.158139</td>\n",
              "      <td>0.100749</td>\n",
              "      <td>-0.897189</td>\n",
              "      <td>-0.116459</td>\n",
              "      <td>0.398995</td>\n",
              "      <td>-0.438727</td>\n",
              "      <td>-0.250573</td>\n",
              "      <td>-0.764475</td>\n",
              "      <td>-0.107354</td>\n",
              "      <td>-0.310506</td>\n",
              "      <td>-0.122787</td>\n",
              "      <td>...</td>\n",
              "      <td>0.178988</td>\n",
              "      <td>-0.348918</td>\n",
              "      <td>0.267478</td>\n",
              "      <td>-0.269511</td>\n",
              "      <td>-0.260660</td>\n",
              "      <td>-0.230779</td>\n",
              "      <td>-0.776124</td>\n",
              "      <td>0.063705</td>\n",
              "      <td>-0.328794</td>\n",
              "      <td>-0.144679</td>\n",
              "      <td>-0.516167</td>\n",
              "      <td>-0.499578</td>\n",
              "      <td>0.296119</td>\n",
              "      <td>-0.429111</td>\n",
              "      <td>0.460954</td>\n",
              "      <td>0.361915</td>\n",
              "      <td>-0.130458</td>\n",
              "      <td>0.148237</td>\n",
              "      <td>-0.178780</td>\n",
              "      <td>0.204167</td>\n",
              "      <td>-0.037812</td>\n",
              "      <td>-0.013201</td>\n",
              "      <td>-0.528037</td>\n",
              "      <td>-0.839780</td>\n",
              "      <td>0.506832</td>\n",
              "      <td>0.184121</td>\n",
              "      <td>0.298673</td>\n",
              "      <td>-4.292791</td>\n",
              "      <td>0.164138</td>\n",
              "      <td>-0.424425</td>\n",
              "      <td>-0.470607</td>\n",
              "      <td>-0.148486</td>\n",
              "      <td>0.304992</td>\n",
              "      <td>1.216745</td>\n",
              "      <td>-0.588296</td>\n",
              "      <td>-0.647081</td>\n",
              "      <td>-0.425242</td>\n",
              "      <td>0.033832</td>\n",
              "      <td>0.289780</td>\n",
              "      <td>-0.789723</td>\n",
              "    </tr>\n",
              "    <tr>\n",
              "      <th>63405</th>\n",
              "      <td>-0.069562</td>\n",
              "      <td>1.002866</td>\n",
              "      <td>0.472012</td>\n",
              "      <td>-1.147172</td>\n",
              "      <td>-0.106377</td>\n",
              "      <td>-0.280113</td>\n",
              "      <td>-0.404112</td>\n",
              "      <td>-0.337914</td>\n",
              "      <td>-0.309353</td>\n",
              "      <td>0.583253</td>\n",
              "      <td>0.308521</td>\n",
              "      <td>-0.060384</td>\n",
              "      <td>-0.242463</td>\n",
              "      <td>-0.262891</td>\n",
              "      <td>0.513804</td>\n",
              "      <td>0.059984</td>\n",
              "      <td>0.232748</td>\n",
              "      <td>0.122221</td>\n",
              "      <td>0.624330</td>\n",
              "      <td>0.596456</td>\n",
              "      <td>3.907214</td>\n",
              "      <td>0.148736</td>\n",
              "      <td>0.180884</td>\n",
              "      <td>-0.312983</td>\n",
              "      <td>-0.057843</td>\n",
              "      <td>-0.637491</td>\n",
              "      <td>-0.779275</td>\n",
              "      <td>-0.519098</td>\n",
              "      <td>-0.294131</td>\n",
              "      <td>0.137462</td>\n",
              "      <td>-0.237275</td>\n",
              "      <td>-0.626726</td>\n",
              "      <td>-0.082022</td>\n",
              "      <td>0.163667</td>\n",
              "      <td>-0.268591</td>\n",
              "      <td>-0.673653</td>\n",
              "      <td>-0.827068</td>\n",
              "      <td>-0.235209</td>\n",
              "      <td>0.053536</td>\n",
              "      <td>-0.013168</td>\n",
              "      <td>...</td>\n",
              "      <td>0.074356</td>\n",
              "      <td>-0.003652</td>\n",
              "      <td>0.584716</td>\n",
              "      <td>-0.057593</td>\n",
              "      <td>-0.464828</td>\n",
              "      <td>-0.331034</td>\n",
              "      <td>-0.325581</td>\n",
              "      <td>0.320217</td>\n",
              "      <td>-0.446186</td>\n",
              "      <td>-0.187984</td>\n",
              "      <td>0.147887</td>\n",
              "      <td>-0.547328</td>\n",
              "      <td>0.113338</td>\n",
              "      <td>-0.167756</td>\n",
              "      <td>0.649093</td>\n",
              "      <td>-0.006725</td>\n",
              "      <td>0.233883</td>\n",
              "      <td>-0.156380</td>\n",
              "      <td>-0.011423</td>\n",
              "      <td>0.348039</td>\n",
              "      <td>-0.563998</td>\n",
              "      <td>-0.224916</td>\n",
              "      <td>-0.278807</td>\n",
              "      <td>-0.451333</td>\n",
              "      <td>0.388905</td>\n",
              "      <td>0.556542</td>\n",
              "      <td>0.534480</td>\n",
              "      <td>-4.942526</td>\n",
              "      <td>-0.215233</td>\n",
              "      <td>-0.296609</td>\n",
              "      <td>-0.470443</td>\n",
              "      <td>-0.296959</td>\n",
              "      <td>0.192390</td>\n",
              "      <td>1.367222</td>\n",
              "      <td>-0.556850</td>\n",
              "      <td>-0.315990</td>\n",
              "      <td>-0.033124</td>\n",
              "      <td>0.214176</td>\n",
              "      <td>0.462258</td>\n",
              "      <td>-0.015277</td>\n",
              "    </tr>\n",
              "    <tr>\n",
              "      <th>62660</th>\n",
              "      <td>0.369185</td>\n",
              "      <td>0.699991</td>\n",
              "      <td>-0.121170</td>\n",
              "      <td>-0.544654</td>\n",
              "      <td>-0.107379</td>\n",
              "      <td>-0.636448</td>\n",
              "      <td>-0.379480</td>\n",
              "      <td>-0.090207</td>\n",
              "      <td>-0.646012</td>\n",
              "      <td>0.069929</td>\n",
              "      <td>-0.590505</td>\n",
              "      <td>-0.025946</td>\n",
              "      <td>0.164470</td>\n",
              "      <td>0.055385</td>\n",
              "      <td>0.486047</td>\n",
              "      <td>-0.036013</td>\n",
              "      <td>0.192093</td>\n",
              "      <td>-0.168957</td>\n",
              "      <td>0.575531</td>\n",
              "      <td>0.047989</td>\n",
              "      <td>3.662821</td>\n",
              "      <td>0.261048</td>\n",
              "      <td>0.733527</td>\n",
              "      <td>-0.237862</td>\n",
              "      <td>-0.313786</td>\n",
              "      <td>-0.180522</td>\n",
              "      <td>-0.227655</td>\n",
              "      <td>-0.684802</td>\n",
              "      <td>0.006642</td>\n",
              "      <td>0.707173</td>\n",
              "      <td>0.636501</td>\n",
              "      <td>-0.747069</td>\n",
              "      <td>-0.200026</td>\n",
              "      <td>0.568793</td>\n",
              "      <td>-0.561503</td>\n",
              "      <td>-0.440175</td>\n",
              "      <td>-0.774842</td>\n",
              "      <td>-0.467958</td>\n",
              "      <td>-0.147768</td>\n",
              "      <td>-0.316719</td>\n",
              "      <td>...</td>\n",
              "      <td>-0.279264</td>\n",
              "      <td>-0.008654</td>\n",
              "      <td>0.760246</td>\n",
              "      <td>-0.149547</td>\n",
              "      <td>-0.125908</td>\n",
              "      <td>-0.368738</td>\n",
              "      <td>-0.346827</td>\n",
              "      <td>-0.248078</td>\n",
              "      <td>-0.254094</td>\n",
              "      <td>0.010780</td>\n",
              "      <td>-0.532663</td>\n",
              "      <td>-0.951509</td>\n",
              "      <td>-0.218478</td>\n",
              "      <td>-0.674714</td>\n",
              "      <td>0.850886</td>\n",
              "      <td>0.417761</td>\n",
              "      <td>-0.469728</td>\n",
              "      <td>0.055989</td>\n",
              "      <td>0.011159</td>\n",
              "      <td>0.222580</td>\n",
              "      <td>0.571447</td>\n",
              "      <td>-0.395614</td>\n",
              "      <td>-0.340764</td>\n",
              "      <td>-0.481868</td>\n",
              "      <td>0.428434</td>\n",
              "      <td>-0.112780</td>\n",
              "      <td>0.337657</td>\n",
              "      <td>-3.295645</td>\n",
              "      <td>0.193986</td>\n",
              "      <td>-0.156779</td>\n",
              "      <td>-0.639332</td>\n",
              "      <td>-0.081229</td>\n",
              "      <td>0.293695</td>\n",
              "      <td>2.023443</td>\n",
              "      <td>-0.298713</td>\n",
              "      <td>-0.519224</td>\n",
              "      <td>-0.152782</td>\n",
              "      <td>0.162731</td>\n",
              "      <td>0.687542</td>\n",
              "      <td>-0.387913</td>\n",
              "    </tr>\n",
              "    <tr>\n",
              "      <th>...</th>\n",
              "      <td>...</td>\n",
              "      <td>...</td>\n",
              "      <td>...</td>\n",
              "      <td>...</td>\n",
              "      <td>...</td>\n",
              "      <td>...</td>\n",
              "      <td>...</td>\n",
              "      <td>...</td>\n",
              "      <td>...</td>\n",
              "      <td>...</td>\n",
              "      <td>...</td>\n",
              "      <td>...</td>\n",
              "      <td>...</td>\n",
              "      <td>...</td>\n",
              "      <td>...</td>\n",
              "      <td>...</td>\n",
              "      <td>...</td>\n",
              "      <td>...</td>\n",
              "      <td>...</td>\n",
              "      <td>...</td>\n",
              "      <td>...</td>\n",
              "      <td>...</td>\n",
              "      <td>...</td>\n",
              "      <td>...</td>\n",
              "      <td>...</td>\n",
              "      <td>...</td>\n",
              "      <td>...</td>\n",
              "      <td>...</td>\n",
              "      <td>...</td>\n",
              "      <td>...</td>\n",
              "      <td>...</td>\n",
              "      <td>...</td>\n",
              "      <td>...</td>\n",
              "      <td>...</td>\n",
              "      <td>...</td>\n",
              "      <td>...</td>\n",
              "      <td>...</td>\n",
              "      <td>...</td>\n",
              "      <td>...</td>\n",
              "      <td>...</td>\n",
              "      <td>...</td>\n",
              "      <td>...</td>\n",
              "      <td>...</td>\n",
              "      <td>...</td>\n",
              "      <td>...</td>\n",
              "      <td>...</td>\n",
              "      <td>...</td>\n",
              "      <td>...</td>\n",
              "      <td>...</td>\n",
              "      <td>...</td>\n",
              "      <td>...</td>\n",
              "      <td>...</td>\n",
              "      <td>...</td>\n",
              "      <td>...</td>\n",
              "      <td>...</td>\n",
              "      <td>...</td>\n",
              "      <td>...</td>\n",
              "      <td>...</td>\n",
              "      <td>...</td>\n",
              "      <td>...</td>\n",
              "      <td>...</td>\n",
              "      <td>...</td>\n",
              "      <td>...</td>\n",
              "      <td>...</td>\n",
              "      <td>...</td>\n",
              "      <td>...</td>\n",
              "      <td>...</td>\n",
              "      <td>...</td>\n",
              "      <td>...</td>\n",
              "      <td>...</td>\n",
              "      <td>...</td>\n",
              "      <td>...</td>\n",
              "      <td>...</td>\n",
              "      <td>...</td>\n",
              "      <td>...</td>\n",
              "      <td>...</td>\n",
              "      <td>...</td>\n",
              "      <td>...</td>\n",
              "      <td>...</td>\n",
              "      <td>...</td>\n",
              "      <td>...</td>\n",
              "    </tr>\n",
              "    <tr>\n",
              "      <th>40730</th>\n",
              "      <td>-0.415217</td>\n",
              "      <td>0.302802</td>\n",
              "      <td>0.363305</td>\n",
              "      <td>-0.676308</td>\n",
              "      <td>-0.145534</td>\n",
              "      <td>-0.271717</td>\n",
              "      <td>-0.773202</td>\n",
              "      <td>0.057465</td>\n",
              "      <td>-0.632910</td>\n",
              "      <td>0.114273</td>\n",
              "      <td>-0.985415</td>\n",
              "      <td>0.192508</td>\n",
              "      <td>0.140767</td>\n",
              "      <td>-0.157992</td>\n",
              "      <td>0.236175</td>\n",
              "      <td>-0.230375</td>\n",
              "      <td>0.116887</td>\n",
              "      <td>-0.407898</td>\n",
              "      <td>0.720863</td>\n",
              "      <td>0.188261</td>\n",
              "      <td>3.986844</td>\n",
              "      <td>0.094604</td>\n",
              "      <td>0.551638</td>\n",
              "      <td>-0.291581</td>\n",
              "      <td>-0.468416</td>\n",
              "      <td>-0.564269</td>\n",
              "      <td>-0.418292</td>\n",
              "      <td>-0.775880</td>\n",
              "      <td>0.046401</td>\n",
              "      <td>0.543350</td>\n",
              "      <td>0.571659</td>\n",
              "      <td>-0.808918</td>\n",
              "      <td>-0.580970</td>\n",
              "      <td>0.496247</td>\n",
              "      <td>-0.638677</td>\n",
              "      <td>-0.298393</td>\n",
              "      <td>-0.408845</td>\n",
              "      <td>-0.395726</td>\n",
              "      <td>-0.016324</td>\n",
              "      <td>-0.485775</td>\n",
              "      <td>...</td>\n",
              "      <td>0.080817</td>\n",
              "      <td>-0.064906</td>\n",
              "      <td>0.709327</td>\n",
              "      <td>0.318874</td>\n",
              "      <td>-0.480154</td>\n",
              "      <td>-0.384177</td>\n",
              "      <td>-0.196702</td>\n",
              "      <td>-0.009017</td>\n",
              "      <td>0.061070</td>\n",
              "      <td>-0.021810</td>\n",
              "      <td>-0.360412</td>\n",
              "      <td>-1.083120</td>\n",
              "      <td>0.010872</td>\n",
              "      <td>-0.972788</td>\n",
              "      <td>0.920809</td>\n",
              "      <td>-0.093391</td>\n",
              "      <td>-0.799613</td>\n",
              "      <td>0.099821</td>\n",
              "      <td>-0.115048</td>\n",
              "      <td>0.485788</td>\n",
              "      <td>0.041788</td>\n",
              "      <td>-0.395237</td>\n",
              "      <td>-0.554667</td>\n",
              "      <td>-0.711819</td>\n",
              "      <td>0.244467</td>\n",
              "      <td>0.073103</td>\n",
              "      <td>0.358947</td>\n",
              "      <td>-3.820111</td>\n",
              "      <td>0.291138</td>\n",
              "      <td>-0.015004</td>\n",
              "      <td>-0.540778</td>\n",
              "      <td>-0.060070</td>\n",
              "      <td>-0.104363</td>\n",
              "      <td>1.693196</td>\n",
              "      <td>-0.564379</td>\n",
              "      <td>-0.446705</td>\n",
              "      <td>-0.431482</td>\n",
              "      <td>0.109963</td>\n",
              "      <td>0.448953</td>\n",
              "      <td>-0.610733</td>\n",
              "    </tr>\n",
              "    <tr>\n",
              "      <th>9046</th>\n",
              "      <td>-0.182313</td>\n",
              "      <td>0.042820</td>\n",
              "      <td>0.466055</td>\n",
              "      <td>-0.880667</td>\n",
              "      <td>-0.189104</td>\n",
              "      <td>0.080661</td>\n",
              "      <td>-0.199498</td>\n",
              "      <td>-0.000241</td>\n",
              "      <td>-0.170163</td>\n",
              "      <td>0.080747</td>\n",
              "      <td>-0.058362</td>\n",
              "      <td>0.115307</td>\n",
              "      <td>0.273897</td>\n",
              "      <td>-0.508497</td>\n",
              "      <td>0.124262</td>\n",
              "      <td>0.058112</td>\n",
              "      <td>0.478186</td>\n",
              "      <td>-0.207212</td>\n",
              "      <td>0.162872</td>\n",
              "      <td>-0.016636</td>\n",
              "      <td>4.131534</td>\n",
              "      <td>0.435700</td>\n",
              "      <td>-0.219006</td>\n",
              "      <td>-0.170878</td>\n",
              "      <td>-0.129281</td>\n",
              "      <td>-0.534437</td>\n",
              "      <td>-1.022682</td>\n",
              "      <td>-0.260133</td>\n",
              "      <td>-0.248073</td>\n",
              "      <td>0.912503</td>\n",
              "      <td>0.108745</td>\n",
              "      <td>-0.893017</td>\n",
              "      <td>0.249485</td>\n",
              "      <td>0.077965</td>\n",
              "      <td>0.115986</td>\n",
              "      <td>-0.723110</td>\n",
              "      <td>-0.857624</td>\n",
              "      <td>-0.033585</td>\n",
              "      <td>-0.219987</td>\n",
              "      <td>0.356225</td>\n",
              "      <td>...</td>\n",
              "      <td>0.592973</td>\n",
              "      <td>-0.065757</td>\n",
              "      <td>-0.123317</td>\n",
              "      <td>0.019728</td>\n",
              "      <td>0.039752</td>\n",
              "      <td>-0.039714</td>\n",
              "      <td>-0.429986</td>\n",
              "      <td>0.375586</td>\n",
              "      <td>0.039241</td>\n",
              "      <td>0.014944</td>\n",
              "      <td>-0.187238</td>\n",
              "      <td>-0.521623</td>\n",
              "      <td>-0.730597</td>\n",
              "      <td>-0.229932</td>\n",
              "      <td>0.389347</td>\n",
              "      <td>0.105259</td>\n",
              "      <td>-0.455747</td>\n",
              "      <td>0.454199</td>\n",
              "      <td>0.015150</td>\n",
              "      <td>0.185843</td>\n",
              "      <td>-0.041509</td>\n",
              "      <td>-0.432467</td>\n",
              "      <td>-0.232712</td>\n",
              "      <td>-0.844573</td>\n",
              "      <td>0.221827</td>\n",
              "      <td>0.531325</td>\n",
              "      <td>0.249428</td>\n",
              "      <td>-4.781097</td>\n",
              "      <td>-0.843055</td>\n",
              "      <td>-0.271550</td>\n",
              "      <td>-0.075314</td>\n",
              "      <td>-0.398184</td>\n",
              "      <td>0.085101</td>\n",
              "      <td>1.121555</td>\n",
              "      <td>-0.323763</td>\n",
              "      <td>-0.333945</td>\n",
              "      <td>-0.882787</td>\n",
              "      <td>0.099782</td>\n",
              "      <td>0.302949</td>\n",
              "      <td>-0.603432</td>\n",
              "    </tr>\n",
              "    <tr>\n",
              "      <th>82882</th>\n",
              "      <td>0.147611</td>\n",
              "      <td>0.851922</td>\n",
              "      <td>0.316986</td>\n",
              "      <td>-0.209094</td>\n",
              "      <td>-0.122375</td>\n",
              "      <td>-0.219480</td>\n",
              "      <td>-0.374897</td>\n",
              "      <td>-0.441904</td>\n",
              "      <td>-0.124203</td>\n",
              "      <td>-0.282153</td>\n",
              "      <td>-0.387342</td>\n",
              "      <td>-0.172673</td>\n",
              "      <td>0.236830</td>\n",
              "      <td>-0.218112</td>\n",
              "      <td>-0.086526</td>\n",
              "      <td>-0.232781</td>\n",
              "      <td>0.564235</td>\n",
              "      <td>0.065213</td>\n",
              "      <td>0.482824</td>\n",
              "      <td>0.381044</td>\n",
              "      <td>4.043043</td>\n",
              "      <td>0.264262</td>\n",
              "      <td>0.127800</td>\n",
              "      <td>-0.246912</td>\n",
              "      <td>-0.087995</td>\n",
              "      <td>0.016336</td>\n",
              "      <td>-0.300619</td>\n",
              "      <td>0.346814</td>\n",
              "      <td>0.174088</td>\n",
              "      <td>0.144444</td>\n",
              "      <td>0.272871</td>\n",
              "      <td>-1.131625</td>\n",
              "      <td>0.352620</td>\n",
              "      <td>0.615097</td>\n",
              "      <td>0.456432</td>\n",
              "      <td>-0.345310</td>\n",
              "      <td>-0.415783</td>\n",
              "      <td>-0.060105</td>\n",
              "      <td>-0.171042</td>\n",
              "      <td>0.197192</td>\n",
              "      <td>...</td>\n",
              "      <td>0.346960</td>\n",
              "      <td>0.190207</td>\n",
              "      <td>0.562024</td>\n",
              "      <td>0.126555</td>\n",
              "      <td>-0.010595</td>\n",
              "      <td>-0.352196</td>\n",
              "      <td>-0.814093</td>\n",
              "      <td>-0.096698</td>\n",
              "      <td>0.298005</td>\n",
              "      <td>-0.308784</td>\n",
              "      <td>-0.194096</td>\n",
              "      <td>-0.141109</td>\n",
              "      <td>-0.174674</td>\n",
              "      <td>-0.512709</td>\n",
              "      <td>0.271494</td>\n",
              "      <td>-0.071499</td>\n",
              "      <td>-0.354628</td>\n",
              "      <td>-0.128696</td>\n",
              "      <td>-0.307792</td>\n",
              "      <td>0.024591</td>\n",
              "      <td>0.543352</td>\n",
              "      <td>-0.004273</td>\n",
              "      <td>-0.044091</td>\n",
              "      <td>-0.732727</td>\n",
              "      <td>0.372102</td>\n",
              "      <td>-0.015039</td>\n",
              "      <td>0.407107</td>\n",
              "      <td>-5.079906</td>\n",
              "      <td>-0.158892</td>\n",
              "      <td>-0.518150</td>\n",
              "      <td>-0.360574</td>\n",
              "      <td>-0.398439</td>\n",
              "      <td>0.002499</td>\n",
              "      <td>0.374396</td>\n",
              "      <td>-0.438582</td>\n",
              "      <td>0.126341</td>\n",
              "      <td>-0.566207</td>\n",
              "      <td>-0.016939</td>\n",
              "      <td>0.280277</td>\n",
              "      <td>-0.399050</td>\n",
              "    </tr>\n",
              "    <tr>\n",
              "      <th>59614</th>\n",
              "      <td>0.589006</td>\n",
              "      <td>0.581548</td>\n",
              "      <td>0.261635</td>\n",
              "      <td>-0.450407</td>\n",
              "      <td>-0.097996</td>\n",
              "      <td>-0.220705</td>\n",
              "      <td>-0.301081</td>\n",
              "      <td>-0.138719</td>\n",
              "      <td>-0.569250</td>\n",
              "      <td>0.841387</td>\n",
              "      <td>0.118378</td>\n",
              "      <td>0.181328</td>\n",
              "      <td>0.233168</td>\n",
              "      <td>-0.766456</td>\n",
              "      <td>-0.042623</td>\n",
              "      <td>-0.330753</td>\n",
              "      <td>0.277856</td>\n",
              "      <td>0.152141</td>\n",
              "      <td>0.438471</td>\n",
              "      <td>-0.032096</td>\n",
              "      <td>4.077712</td>\n",
              "      <td>0.001382</td>\n",
              "      <td>0.499545</td>\n",
              "      <td>0.014503</td>\n",
              "      <td>-0.126484</td>\n",
              "      <td>-0.120753</td>\n",
              "      <td>-0.051029</td>\n",
              "      <td>-0.355527</td>\n",
              "      <td>-0.011643</td>\n",
              "      <td>0.369066</td>\n",
              "      <td>-0.180364</td>\n",
              "      <td>-0.303859</td>\n",
              "      <td>-0.423275</td>\n",
              "      <td>0.039865</td>\n",
              "      <td>-0.121031</td>\n",
              "      <td>-0.370176</td>\n",
              "      <td>-0.835359</td>\n",
              "      <td>0.525526</td>\n",
              "      <td>-0.768723</td>\n",
              "      <td>-0.026574</td>\n",
              "      <td>...</td>\n",
              "      <td>-0.342495</td>\n",
              "      <td>-0.158360</td>\n",
              "      <td>0.474479</td>\n",
              "      <td>-0.197857</td>\n",
              "      <td>-0.067949</td>\n",
              "      <td>0.006786</td>\n",
              "      <td>-0.150842</td>\n",
              "      <td>-0.529444</td>\n",
              "      <td>-0.347149</td>\n",
              "      <td>-0.089412</td>\n",
              "      <td>-1.131629</td>\n",
              "      <td>-0.334495</td>\n",
              "      <td>-0.261306</td>\n",
              "      <td>-0.290078</td>\n",
              "      <td>0.369793</td>\n",
              "      <td>0.441167</td>\n",
              "      <td>-0.525307</td>\n",
              "      <td>-0.175908</td>\n",
              "      <td>-0.032978</td>\n",
              "      <td>0.312400</td>\n",
              "      <td>0.286940</td>\n",
              "      <td>-0.276028</td>\n",
              "      <td>-0.250295</td>\n",
              "      <td>-0.925275</td>\n",
              "      <td>-0.281294</td>\n",
              "      <td>-0.016450</td>\n",
              "      <td>0.555824</td>\n",
              "      <td>-4.137691</td>\n",
              "      <td>0.078558</td>\n",
              "      <td>-0.583887</td>\n",
              "      <td>-0.587243</td>\n",
              "      <td>-0.940626</td>\n",
              "      <td>-0.028452</td>\n",
              "      <td>0.815175</td>\n",
              "      <td>-0.294802</td>\n",
              "      <td>-0.212270</td>\n",
              "      <td>-0.213610</td>\n",
              "      <td>-0.082450</td>\n",
              "      <td>0.226088</td>\n",
              "      <td>-0.400353</td>\n",
              "    </tr>\n",
              "    <tr>\n",
              "      <th>45525</th>\n",
              "      <td>-0.028653</td>\n",
              "      <td>0.815335</td>\n",
              "      <td>-0.070661</td>\n",
              "      <td>-0.568956</td>\n",
              "      <td>0.028497</td>\n",
              "      <td>-0.182420</td>\n",
              "      <td>-0.645451</td>\n",
              "      <td>-0.016486</td>\n",
              "      <td>-0.233741</td>\n",
              "      <td>0.180612</td>\n",
              "      <td>-0.018637</td>\n",
              "      <td>0.323453</td>\n",
              "      <td>-0.061543</td>\n",
              "      <td>-0.266488</td>\n",
              "      <td>0.049632</td>\n",
              "      <td>0.112574</td>\n",
              "      <td>0.339681</td>\n",
              "      <td>-0.284456</td>\n",
              "      <td>0.710098</td>\n",
              "      <td>0.349647</td>\n",
              "      <td>3.988703</td>\n",
              "      <td>0.236536</td>\n",
              "      <td>0.768851</td>\n",
              "      <td>-0.125630</td>\n",
              "      <td>-0.211876</td>\n",
              "      <td>-0.287001</td>\n",
              "      <td>-0.446071</td>\n",
              "      <td>-0.074443</td>\n",
              "      <td>-0.205135</td>\n",
              "      <td>0.714483</td>\n",
              "      <td>0.074147</td>\n",
              "      <td>-0.765576</td>\n",
              "      <td>-0.207790</td>\n",
              "      <td>0.163553</td>\n",
              "      <td>-0.009077</td>\n",
              "      <td>-0.416640</td>\n",
              "      <td>-0.793052</td>\n",
              "      <td>-0.140561</td>\n",
              "      <td>0.144829</td>\n",
              "      <td>-0.078203</td>\n",
              "      <td>...</td>\n",
              "      <td>-0.846161</td>\n",
              "      <td>0.111554</td>\n",
              "      <td>0.663440</td>\n",
              "      <td>-0.273898</td>\n",
              "      <td>-0.088876</td>\n",
              "      <td>-0.400589</td>\n",
              "      <td>-0.600280</td>\n",
              "      <td>-0.347594</td>\n",
              "      <td>-0.153472</td>\n",
              "      <td>-0.189601</td>\n",
              "      <td>-0.230640</td>\n",
              "      <td>-0.935867</td>\n",
              "      <td>0.429099</td>\n",
              "      <td>-0.528861</td>\n",
              "      <td>0.435607</td>\n",
              "      <td>-0.268151</td>\n",
              "      <td>-0.259002</td>\n",
              "      <td>-0.066968</td>\n",
              "      <td>-0.155975</td>\n",
              "      <td>0.187275</td>\n",
              "      <td>0.530572</td>\n",
              "      <td>-0.569026</td>\n",
              "      <td>-0.511661</td>\n",
              "      <td>-0.614640</td>\n",
              "      <td>0.086440</td>\n",
              "      <td>-0.111650</td>\n",
              "      <td>0.596799</td>\n",
              "      <td>-5.639348</td>\n",
              "      <td>0.049255</td>\n",
              "      <td>-0.287720</td>\n",
              "      <td>-0.688298</td>\n",
              "      <td>-0.349942</td>\n",
              "      <td>0.107582</td>\n",
              "      <td>1.074157</td>\n",
              "      <td>-0.327401</td>\n",
              "      <td>-0.241292</td>\n",
              "      <td>-0.040961</td>\n",
              "      <td>0.509738</td>\n",
              "      <td>0.658524</td>\n",
              "      <td>-0.512060</td>\n",
              "    </tr>\n",
              "  </tbody>\n",
              "</table>\n",
              "<p>71918 rows × 1024 columns</p>\n",
              "</div>"
            ],
            "text/plain": [
              "           0         1         2     ...      1021      1022      1023\n",
              "45440 -0.134450  0.262440  0.578321  ... -0.028658  0.590625 -0.374684\n",
              "4682  -0.071097  0.650376  0.105896  ... -0.244260  0.535899 -0.951509\n",
              "2552  -0.064202  0.351255  0.179642  ...  0.033832  0.289780 -0.789723\n",
              "63405 -0.069562  1.002866  0.472012  ...  0.214176  0.462258 -0.015277\n",
              "62660  0.369185  0.699991 -0.121170  ...  0.162731  0.687542 -0.387913\n",
              "...         ...       ...       ...  ...       ...       ...       ...\n",
              "40730 -0.415217  0.302802  0.363305  ...  0.109963  0.448953 -0.610733\n",
              "9046  -0.182313  0.042820  0.466055  ...  0.099782  0.302949 -0.603432\n",
              "82882  0.147611  0.851922  0.316986  ... -0.016939  0.280277 -0.399050\n",
              "59614  0.589006  0.581548  0.261635  ... -0.082450  0.226088 -0.400353\n",
              "45525 -0.028653  0.815335 -0.070661  ...  0.509738  0.658524 -0.512060\n",
              "\n",
              "[71918 rows x 1024 columns]"
            ]
          },
          "metadata": {
            "tags": []
          },
          "execution_count": 9
        }
      ]
    },
    {
      "cell_type": "markdown",
      "metadata": {
        "id": "ioIxcsj-RI3a"
      },
      "source": [
        "## Model creation below using Keras library"
      ]
    },
    {
      "cell_type": "code",
      "metadata": {
        "id": "4VwBxjOlRI3a"
      },
      "source": [
        "# Define needed variables\n",
        "embed_size = 200\n",
        "maxlen = 2000\n",
        "# Importing needed keras libraries\n",
        "from keras.layers import Dense, Input, LSTM, Embedding, Dropout, Activation, SpatialDropout1D, GRU \n",
        "from keras.layers import Bidirectional, GlobalAveragePooling1D, GlobalMaxPool1D, concatenate\n",
        "from keras.models import Model\n",
        "import keras\n",
        "import tensorflow as tf\n",
        "from keras import initializers, regularizers, constraints, optimizers, layers, Sequential\n",
        "from keras.utils import to_categorical\n",
        "from keras.callbacks import EarlyStopping, ModelCheckpoint"
      ],
      "execution_count": null,
      "outputs": []
    },
    {
      "cell_type": "markdown",
      "metadata": {
        "id": "Xe_3KtCWRI3d"
      },
      "source": [
        "### NN model with BART embeddings"
      ]
    },
    {
      "cell_type": "code",
      "metadata": {
        "colab": {
          "base_uri": "https://localhost:8080/"
        },
        "id": "FLxhV6afRI3d",
        "outputId": "a6263169-4d1e-452e-a0de-49a62be8eafc"
      },
      "source": [
        "# Trying sequential model\n",
        "model = Sequential()\n",
        "\n",
        "model.add(layers.InputLayer(input_shape=X_train.shape[1]))\n",
        "model.add(Dense(64, activation='relu'))\n",
        "model.add(layers.BatchNormalization()) # Batch normalization\n",
        "model.add(Dense(64, activation='relu'))\n",
        "model.add(layers.BatchNormalization()) # Batch normalization\n",
        "model.add(Dense(64, activation='relu'))\n",
        "model.add(layers.BatchNormalization()) # Batch normalization\n",
        "model.add(Dense(64, activation='relu'))\n",
        "model.add(layers.BatchNormalization()) # Batch normalization\n",
        "model.add(Dense(64, activation='relu'))\n",
        "model.add(layers.BatchNormalization()) # Batch normalization\n",
        "model.add(Dense(64, activation='relu')) # 4 dense layers\n",
        "model.add(Dense(1, activation = 'sigmoid'))\n",
        "\n",
        "model.compile(loss =\"binary_crossentropy\", optimizer='adam', metrics = ['accuracy', keras.metrics.Precision(), keras.metrics.Recall()])\n",
        "model.summary()\n",
        "\n",
        "# Credit to: https://realpython.com/python-keras-text-classification/"
      ],
      "execution_count": null,
      "outputs": [
        {
          "output_type": "stream",
          "text": [
            "Model: \"sequential_1\"\n",
            "_________________________________________________________________\n",
            "Layer (type)                 Output Shape              Param #   \n",
            "=================================================================\n",
            "dense (Dense)                (None, 64)                65600     \n",
            "_________________________________________________________________\n",
            "batch_normalization (BatchNo (None, 64)                256       \n",
            "_________________________________________________________________\n",
            "dense_1 (Dense)              (None, 64)                4160      \n",
            "_________________________________________________________________\n",
            "batch_normalization_1 (Batch (None, 64)                256       \n",
            "_________________________________________________________________\n",
            "dense_2 (Dense)              (None, 64)                4160      \n",
            "_________________________________________________________________\n",
            "batch_normalization_2 (Batch (None, 64)                256       \n",
            "_________________________________________________________________\n",
            "dense_3 (Dense)              (None, 64)                4160      \n",
            "_________________________________________________________________\n",
            "batch_normalization_3 (Batch (None, 64)                256       \n",
            "_________________________________________________________________\n",
            "dense_4 (Dense)              (None, 64)                4160      \n",
            "_________________________________________________________________\n",
            "batch_normalization_4 (Batch (None, 64)                256       \n",
            "_________________________________________________________________\n",
            "dense_5 (Dense)              (None, 64)                4160      \n",
            "_________________________________________________________________\n",
            "dense_6 (Dense)              (None, 1)                 65        \n",
            "=================================================================\n",
            "Total params: 87,745\n",
            "Trainable params: 87,105\n",
            "Non-trainable params: 640\n",
            "_________________________________________________________________\n"
          ],
          "name": "stdout"
        }
      ]
    },
    {
      "cell_type": "code",
      "metadata": {
        "colab": {
          "base_uri": "https://localhost:8080/",
          "height": 60
        },
        "id": "34Xrh-VuQcFR",
        "outputId": "d36e8629-2ea5-4d34-db40-d1ea0ec13232"
      },
      "source": [
        "from keras.utils.vis_utils import plot_model\n",
        "\n",
        "plot_model(model, to_file='model_plot.png', show_shapes=True, show_layer_names=True, rankdir='LR')"
      ],
      "execution_count": null,
      "outputs": [
        {
          "output_type": "execute_result",
          "data": {
            "image/png": "[encoded data removed]",
            "text/plain": [
              "<IPython.core.display.Image object>"
            ]
          },
          "metadata": {
            "tags": []
          },
          "execution_count": 12
        }
      ]
    },
    {
      "cell_type": "markdown",
      "metadata": {
        "id": "finIelulrWdj"
      },
      "source": [
        "### Train the model for 25 epochs"
      ]
    },
    {
      "cell_type": "code",
      "metadata": {
        "colab": {
          "base_uri": "https://localhost:8080/"
        },
        "id": "I4XuZVOURI3f",
        "scrolled": true,
        "outputId": "966fa16b-65bb-4c9a-b7c4-a479da7df950"
      },
      "source": [
        "model.fit(X_train, y_train, batch_size = 64, epochs = 25, validation_split=0.1)"
      ],
      "execution_count": null,
      "outputs": [
        {
          "output_type": "stream",
          "text": [
            "Epoch 1/25\n",
            "1012/1012 [==============================] - 5s 5ms/step - loss: 0.1818 - accuracy: 0.9253 - precision_6: 0.9214 - recall_6: 0.9260 - val_loss: 0.1864 - val_accuracy: 0.9178 - val_precision_6: 0.8625 - val_recall_6: 0.9898\n",
            "Epoch 2/25\n",
            "1012/1012 [==============================] - 5s 5ms/step - loss: 0.1232 - accuracy: 0.9524 - precision_6: 0.9471 - recall_6: 0.9559 - val_loss: 0.1066 - val_accuracy: 0.9588 - val_precision_6: 0.9621 - val_recall_6: 0.9534\n",
            "Epoch 3/25\n",
            "1012/1012 [==============================] - 5s 5ms/step - loss: 0.1064 - accuracy: 0.9591 - precision_6: 0.9552 - recall_6: 0.9613 - val_loss: 0.1074 - val_accuracy: 0.9569 - val_precision_6: 0.9583 - val_recall_6: 0.9534\n",
            "Epoch 4/25\n",
            "1012/1012 [==============================] - 4s 4ms/step - loss: 0.0978 - accuracy: 0.9627 - precision_6: 0.9598 - recall_6: 0.9639 - val_loss: 0.1197 - val_accuracy: 0.9518 - val_precision_6: 0.9573 - val_recall_6: 0.9434\n",
            "Epoch 5/25\n",
            "1012/1012 [==============================] - 4s 4ms/step - loss: 0.0839 - accuracy: 0.9681 - precision_6: 0.9662 - recall_6: 0.9685 - val_loss: 0.1097 - val_accuracy: 0.9568 - val_precision_6: 0.9726 - val_recall_6: 0.9380\n",
            "Epoch 6/25\n",
            "1012/1012 [==============================] - 4s 4ms/step - loss: 0.0832 - accuracy: 0.9687 - precision_6: 0.9670 - recall_6: 0.9689 - val_loss: 0.0968 - val_accuracy: 0.9625 - val_precision_6: 0.9572 - val_recall_6: 0.9664\n",
            "Epoch 7/25\n",
            "1012/1012 [==============================] - 4s 4ms/step - loss: 0.0722 - accuracy: 0.9725 - precision_6: 0.9701 - recall_6: 0.9738 - val_loss: 0.0962 - val_accuracy: 0.9647 - val_precision_6: 0.9541 - val_recall_6: 0.9747\n",
            "Epoch 8/25\n",
            "1012/1012 [==============================] - 5s 5ms/step - loss: 0.0668 - accuracy: 0.9747 - precision_6: 0.9726 - recall_6: 0.9756 - val_loss: 0.1049 - val_accuracy: 0.9595 - val_precision_6: 0.9503 - val_recall_6: 0.9679\n",
            "Epoch 9/25\n",
            "1012/1012 [==============================] - 5s 5ms/step - loss: 0.0622 - accuracy: 0.9764 - precision_6: 0.9744 - recall_6: 0.9774 - val_loss: 0.1322 - val_accuracy: 0.9552 - val_precision_6: 0.9412 - val_recall_6: 0.9690\n",
            "Epoch 10/25\n",
            "1012/1012 [==============================] - 5s 5ms/step - loss: 0.0575 - accuracy: 0.9786 - precision_6: 0.9773 - recall_6: 0.9788 - val_loss: 0.0953 - val_accuracy: 0.9636 - val_precision_6: 0.9683 - val_recall_6: 0.9568\n",
            "Epoch 11/25\n",
            "1012/1012 [==============================] - 5s 5ms/step - loss: 0.0538 - accuracy: 0.9801 - precision_6: 0.9790 - recall_6: 0.9802 - val_loss: 0.1026 - val_accuracy: 0.9620 - val_precision_6: 0.9674 - val_recall_6: 0.9545\n",
            "Epoch 12/25\n",
            "1012/1012 [==============================] - 4s 4ms/step - loss: 0.0505 - accuracy: 0.9810 - precision_6: 0.9797 - recall_6: 0.9815 - val_loss: 0.1016 - val_accuracy: 0.9612 - val_precision_6: 0.9636 - val_recall_6: 0.9568\n",
            "Epoch 13/25\n",
            "1012/1012 [==============================] - 5s 4ms/step - loss: 0.0493 - accuracy: 0.9818 - precision_6: 0.9806 - recall_6: 0.9821 - val_loss: 0.1079 - val_accuracy: 0.9620 - val_precision_6: 0.9779 - val_recall_6: 0.9437\n",
            "Epoch 14/25\n",
            "1012/1012 [==============================] - 5s 5ms/step - loss: 0.0453 - accuracy: 0.9839 - precision_6: 0.9833 - recall_6: 0.9837 - val_loss: 0.1132 - val_accuracy: 0.9595 - val_precision_6: 0.9598 - val_recall_6: 0.9574\n",
            "Epoch 15/25\n",
            "1012/1012 [==============================] - 5s 5ms/step - loss: 0.0406 - accuracy: 0.9843 - precision_6: 0.9833 - recall_6: 0.9844 - val_loss: 0.1040 - val_accuracy: 0.9640 - val_precision_6: 0.9630 - val_recall_6: 0.9633\n",
            "Epoch 16/25\n",
            "1012/1012 [==============================] - 5s 5ms/step - loss: 0.0390 - accuracy: 0.9849 - precision_6: 0.9843 - recall_6: 0.9847 - val_loss: 0.0952 - val_accuracy: 0.9672 - val_precision_6: 0.9635 - val_recall_6: 0.9696\n",
            "Epoch 17/25\n",
            "1012/1012 [==============================] - 5s 5ms/step - loss: 0.0392 - accuracy: 0.9856 - precision_6: 0.9846 - recall_6: 0.9860 - val_loss: 0.0930 - val_accuracy: 0.9691 - val_precision_6: 0.9632 - val_recall_6: 0.9741\n",
            "Epoch 18/25\n",
            "1012/1012 [==============================] - 5s 5ms/step - loss: 0.0340 - accuracy: 0.9875 - precision_6: 0.9872 - recall_6: 0.9872 - val_loss: 0.1036 - val_accuracy: 0.9648 - val_precision_6: 0.9722 - val_recall_6: 0.9554\n",
            "Epoch 19/25\n",
            "1012/1012 [==============================] - 5s 5ms/step - loss: 0.0339 - accuracy: 0.9869 - precision_6: 0.9862 - recall_6: 0.9871 - val_loss: 0.1157 - val_accuracy: 0.9638 - val_precision_6: 0.9636 - val_recall_6: 0.9625\n",
            "Epoch 20/25\n",
            "1012/1012 [==============================] - 5s 5ms/step - loss: 0.0304 - accuracy: 0.9886 - precision_6: 0.9883 - recall_6: 0.9883 - val_loss: 0.1179 - val_accuracy: 0.9665 - val_precision_6: 0.9675 - val_recall_6: 0.9639\n",
            "Epoch 21/25\n",
            "1012/1012 [==============================] - 5s 5ms/step - loss: 0.0303 - accuracy: 0.9889 - precision_6: 0.9879 - recall_6: 0.9893 - val_loss: 0.1215 - val_accuracy: 0.9632 - val_precision_6: 0.9585 - val_recall_6: 0.9664\n",
            "Epoch 22/25\n",
            "1012/1012 [==============================] - 5s 5ms/step - loss: 0.0272 - accuracy: 0.9902 - precision_6: 0.9900 - recall_6: 0.9900 - val_loss: 0.1188 - val_accuracy: 0.9659 - val_precision_6: 0.9580 - val_recall_6: 0.9730\n",
            "Epoch 23/25\n",
            "1012/1012 [==============================] - 5s 5ms/step - loss: 0.0264 - accuracy: 0.9903 - precision_6: 0.9897 - recall_6: 0.9904 - val_loss: 0.1141 - val_accuracy: 0.9661 - val_precision_6: 0.9537 - val_recall_6: 0.9781\n",
            "Epoch 24/25\n",
            "1012/1012 [==============================] - 5s 5ms/step - loss: 0.0265 - accuracy: 0.9902 - precision_6: 0.9897 - recall_6: 0.9902 - val_loss: 0.1259 - val_accuracy: 0.9673 - val_precision_6: 0.9533 - val_recall_6: 0.9812\n",
            "Epoch 25/25\n",
            "1012/1012 [==============================] - 5s 5ms/step - loss: 0.0245 - accuracy: 0.9913 - precision_6: 0.9906 - recall_6: 0.9915 - val_loss: 0.1056 - val_accuracy: 0.9690 - val_precision_6: 0.9588 - val_recall_6: 0.9787\n"
          ],
          "name": "stdout"
        },
        {
          "output_type": "execute_result",
          "data": {
            "text/plain": [
              "<tensorflow.python.keras.callbacks.History at 0x7f65560d3e10>"
            ]
          },
          "metadata": {
            "tags": []
          },
          "execution_count": 34
        }
      ]
    },
    {
      "cell_type": "code",
      "metadata": {
        "colab": {
          "base_uri": "https://localhost:8080/"
        },
        "id": "ysagveaBRI3i",
        "outputId": "899766b7-ae19-447e-c6a9-f66d3b7a9a78"
      },
      "source": [
        "loss, accuracy, precision, recall = model.evaluate(X_train, y_train, verbose=False)\n",
        "print(\"Training Accuracy: {:.4f}\".format(accuracy))\n",
        "print(\"Training Precision:  {:.4f}\".format(precision))\n",
        "print(\"Training Recall:  {:.4f}\".format(recall))\n",
        "\n",
        "loss, accuracy, precision, recall = model.evaluate(X_test, y_test, verbose=False)\n",
        "print(\"Testing Accuracy:  {:.4f}\".format(accuracy))\n",
        "print(\"Testing Precision:  {:.4f}\".format(precision))\n",
        "print(\"Testing Recall:  {:.4f}\".format(recall))"
      ],
      "execution_count": null,
      "outputs": [
        {
          "output_type": "stream",
          "text": [
            "Training Accuracy: 0.9931\n",
            "Training Precision:  0.9890\n",
            "Training Recall:  0.9969\n",
            "Testing Accuracy:  0.9711\n",
            "Testing Precision:  0.9624\n",
            "Testing Recall:  0.9792\n"
          ],
          "name": "stdout"
        }
      ]
    },
    {
      "cell_type": "code",
      "metadata": {
        "id": "RW2JdbDvlZuQ"
      },
      "source": [
        "model.save(\"NN_model_embeddings_final.h5\")"
      ],
      "execution_count": null,
      "outputs": []
    },
    {
      "cell_type": "code",
      "metadata": {
        "id": "xtddY0QMRI3k"
      },
      "source": [
        "import numpy as np\n",
        "import seaborn as sns\n",
        "F1_Score_Test = 2 *( ( precision * recall) / (precision + recall))\n",
        "\n",
        "metrics_array = np.array([[accuracy, precision], [recall, F1_Score_Test]])"
      ],
      "execution_count": null,
      "outputs": []
    },
    {
      "cell_type": "code",
      "metadata": {
        "colab": {
          "base_uri": "https://localhost:8080/",
          "height": 282
        },
        "id": "Db5pxBjORI3m",
        "outputId": "7b5705c8-46c4-46e4-dbda-f09cd7c44515"
      },
      "source": [
        "group_names = ['Accuracy', 'Precision', 'Recall', 'F1 Score']\n",
        "group_counts = [\"{0:0.3f}\".format(value) for value in metrics_array.flatten()]\n",
        "\n",
        "labels = [f\"{v1}\\n{v2}\" for v1, v2 in zip(group_names, group_counts)]\n",
        "labels = np.asarray(labels).reshape(2,2)\n",
        "\n",
        "sns.heatmap(metrics_array, annot=labels, fmt='', cmap=\"Blues\")"
      ],
      "execution_count": null,
      "outputs": [
        {
          "output_type": "execute_result",
          "data": {
            "text/plain": [
              "<matplotlib.axes._subplots.AxesSubplot at 0x7f6554b2d2b0>"
            ]
          },
          "metadata": {
            "tags": []
          },
          "execution_count": 39
        },
        {
          "output_type": "display_data",
          "data": {
            "image/png": "[encoded data removed]",
            "text/plain": [
              "<Figure size 432x288 with 2 Axes>"
            ]
          },
          "metadata": {
            "tags": []
          }
        }
      ]
    },
    {
      "cell_type": "code",
      "metadata": {
        "colab": {
          "base_uri": "https://localhost:8080/"
        },
        "id": "UMwQlBttcfIo",
        "outputId": "925e2ae7-01d1-48a1-da8a-70dcd635e842"
      },
      "source": [
        "#from google.colab import drive\n",
        "#drive.mount('/content/gdrive')"
      ],
      "execution_count": null,
      "outputs": [
        {
          "output_type": "stream",
          "text": [
            "Mounted at /content/gdrive\n"
          ],
          "name": "stdout"
        }
      ]
    },
    {
      "cell_type": "code",
      "metadata": {
        "colab": {
          "base_uri": "https://localhost:8080/"
        },
        "id": "tzlilRJhbbA4",
        "outputId": "7e3ee701-0ea3-468f-bc3b-b3c287081b19"
      },
      "source": [
        "# Save model locally\n",
        "#model_save_name = 'NN_model_Keras_Embedding_layer'\n",
        "#path = F\"/content/gdrive/My Drive/{model_save_name}\" \n",
        "#model.save(path)"
      ],
      "execution_count": null,
      "outputs": [
        {
          "output_type": "stream",
          "text": [
            "INFO : Assets written to: /content/gdrive/My Drive/NN_model_Keras_Embedding_layer/assets\n"
          ],
          "name": "stderr"
        }
      ]
    },
    {
      "cell_type": "markdown",
      "metadata": {
        "id": "DoqExzQzRI3p"
      },
      "source": [
        "## New model but with no embeddings"
      ]
    },
    {
      "cell_type": "code",
      "metadata": {
        "colab": {
          "base_uri": "https://localhost:8080/"
        },
        "id": "JDDeSs69eHLF",
        "outputId": "c4d9cd40-2428-4097-c6d3-808edf50fdd9"
      },
      "source": [
        "import pandas as pd\n",
        "# Pulling data from Hussein's github repo\n",
        "!wget \"https://raw.githubusercontent.com/HAadams/fake_news_dataset/master/combined_data.zip\" -O combined_data.zip\n",
        "!unzip combined_data.zip"
      ],
      "execution_count": null,
      "outputs": [
        {
          "output_type": "stream",
          "text": [
            "--2020-11-20 22:49:11--  https://raw.githubusercontent.com/HAadams/fake_news_dataset/master/combined_data.zip\n",
            "Resolving raw.githubusercontent.com (raw.githubusercontent.com)... 151.101.0.133, 151.101.64.133, 151.101.128.133, ...\n",
            "Connecting to raw.githubusercontent.com (raw.githubusercontent.com)|151.101.0.133|:443... connected.\n",
            "HTTP request sent, awaiting response... 200 OK\n",
            "Length: 71497977 (68M) [application/zip]\n",
            "Saving to: ‘combined_data.zip’\n",
            "\n",
            "combined_data.zip   100%[===================>]  68.19M   114MB/s    in 0.6s    \n",
            "\n",
            "2020-11-20 22:49:12 (114 MB/s) - ‘combined_data.zip’ saved [71497977/71497977]\n",
            "\n",
            "Archive:  combined_data.zip\n",
            "  inflating: combined_data.csv       \n"
          ],
          "name": "stdout"
        }
      ]
    },
    {
      "cell_type": "code",
      "metadata": {
        "id": "c2hxKaGlYa6m"
      },
      "source": [
        "df = pd.read_csv('combined_data.csv')"
      ],
      "execution_count": null,
      "outputs": []
    },
    {
      "cell_type": "code",
      "metadata": {
        "id": "JyIwhN-JRI3p"
      },
      "source": [
        "from sklearn.feature_extraction.text import TfidfVectorizer\n",
        "from sklearn.feature_extraction.text import CountVectorizer\n",
        "# list of text documents\n",
        "text = df['Text']\n",
        "# create the transform\n",
        "vectorizer = CountVectorizer()\n",
        "# tokenize and build vocab\n",
        "vectorizer.fit(text)\n",
        "# encode document\n",
        "vector = vectorizer.transform(text)"
      ],
      "execution_count": null,
      "outputs": []
    },
    {
      "cell_type": "code",
      "metadata": {
        "id": "WLN3FkWLRI3r"
      },
      "source": [
        "from sklearn.feature_extraction.text import TfidfVectorizer\n",
        "text = df['Text']\n",
        "vectorizer = TfidfVectorizer()\n",
        "tf_vector = vectorizer.fit_transform(text)"
      ],
      "execution_count": null,
      "outputs": []
    },
    {
      "cell_type": "code",
      "metadata": {
        "id": "aK6rdDWERI3t"
      },
      "source": [
        "text = df['Text'].tolist()\n",
        "y = df['Target'].tolist()\n",
        "from sklearn.model_selection import train_test_split"
      ],
      "execution_count": null,
      "outputs": []
    },
    {
      "cell_type": "code",
      "metadata": {
        "id": "MUBiiwXjRI3w"
      },
      "source": [
        "X_train, X_test, y_train, y_test = train_test_split(tf_vector, y, test_size = 0.2, shuffle=True)"
      ],
      "execution_count": null,
      "outputs": []
    },
    {
      "cell_type": "code",
      "metadata": {
        "colab": {
          "base_uri": "https://localhost:8080/"
        },
        "id": "A39_pM4zYhvT",
        "outputId": "9cb82a3e-e798-4a29-f2fa-ad08d2adc758"
      },
      "source": [
        "X_test.shape"
      ],
      "execution_count": null,
      "outputs": [
        {
          "output_type": "execute_result",
          "data": {
            "text/plain": [
              "(17980, 221412)"
            ]
          },
          "metadata": {
            "tags": []
          },
          "execution_count": 9
        }
      ]
    },
    {
      "cell_type": "code",
      "metadata": {
        "colab": {
          "base_uri": "https://localhost:8080/"
        },
        "id": "Id2SgKhYY1QZ",
        "outputId": "b8c70393-3cf5-4eb7-f6ff-4b9c93a52d8d"
      },
      "source": [
        "X_train.shape"
      ],
      "execution_count": null,
      "outputs": [
        {
          "output_type": "execute_result",
          "data": {
            "text/plain": [
              "(71918, 221412)"
            ]
          },
          "metadata": {
            "tags": []
          },
          "execution_count": 10
        }
      ]
    },
    {
      "cell_type": "code",
      "metadata": {
        "colab": {
          "base_uri": "https://localhost:8080/"
        },
        "id": "P9XWuMn0sOJ6",
        "outputId": "6a57fb7b-d1b0-4ec9-c1a2-62066900ae49"
      },
      "source": [
        "del model\n",
        "model = Sequential()\n",
        "max_features = 230000 \n",
        "\n",
        "model.add(layers.Dense(2, activation='relu', input_shape=(X_train.shape[1],) ) )\n",
        "model.add(Dense(64, activation='relu'))\n",
        "model.add(layers.Dropout(.4))\n",
        "model.add(Dense(64, activation='relu'))\n",
        "model.add(layers.Dropout(.4))\n",
        "model.add(Dense(64, activation='relu'))\n",
        "model.add(layers.Dropout(.4))\n",
        "model.add(Dense(64, activation='relu'))\n",
        "model.add(layers.Dropout(.4))\n",
        "model.add(Dense(64, activation='relu'))\n",
        "model.add(layers.Dropout(.4))\n",
        "model.add(Dense(64, activation='relu')) # 4 dense layers\n",
        "model.add(layers.Dropout(.4))\n",
        "model.add(Dense(1, activation = 'sigmoid'))\n",
        "\n",
        "model.compile(loss =\"binary_crossentropy\", optimizer='adam', metrics = ['accuracy', keras.metrics.Precision(), keras.metrics.Recall()])\n",
        "model.summary()"
      ],
      "execution_count": null,
      "outputs": [
        {
          "output_type": "stream",
          "text": [
            "Model: \"sequential\"\n",
            "_________________________________________________________________\n",
            "Layer (type)                 Output Shape              Param #   \n",
            "=================================================================\n",
            "dense (Dense)                (None, 2)                 442826    \n",
            "_________________________________________________________________\n",
            "dense_1 (Dense)              (None, 64)                192       \n",
            "_________________________________________________________________\n",
            "dropout (Dropout)            (None, 64)                0         \n",
            "_________________________________________________________________\n",
            "dense_2 (Dense)              (None, 64)                4160      \n",
            "_________________________________________________________________\n",
            "dropout_1 (Dropout)          (None, 64)                0         \n",
            "_________________________________________________________________\n",
            "dense_3 (Dense)              (None, 64)                4160      \n",
            "_________________________________________________________________\n",
            "dropout_2 (Dropout)          (None, 64)                0         \n",
            "_________________________________________________________________\n",
            "dense_4 (Dense)              (None, 64)                4160      \n",
            "_________________________________________________________________\n",
            "dropout_3 (Dropout)          (None, 64)                0         \n",
            "_________________________________________________________________\n",
            "dense_5 (Dense)              (None, 64)                4160      \n",
            "_________________________________________________________________\n",
            "dropout_4 (Dropout)          (None, 64)                0         \n",
            "_________________________________________________________________\n",
            "dense_6 (Dense)              (None, 64)                4160      \n",
            "_________________________________________________________________\n",
            "dropout_5 (Dropout)          (None, 64)                0         \n",
            "_________________________________________________________________\n",
            "dense_7 (Dense)              (None, 1)                 65        \n",
            "=================================================================\n",
            "Total params: 463,883\n",
            "Trainable params: 463,883\n",
            "Non-trainable params: 0\n",
            "_________________________________________________________________\n"
          ],
          "name": "stdout"
        }
      ]
    },
    {
      "cell_type": "code",
      "metadata": {
        "id": "3idKuqRZsOeL"
      },
      "source": [
        "import numpy as np\n",
        "# Due to large feature space, each document must be individually trained for model\n",
        "for item in range(X_train.shape[0]):\n",
        "  model.fit(X_train[item].toarray(), np.array([y_train[item]]), epochs = 20, verbose=0)"
      ],
      "execution_count": null,
      "outputs": []
    },
    {
      "cell_type": "code",
      "metadata": {
        "id": "iuRqimXAtHfN"
      },
      "source": [
        "# Predict function gives continuous numerical output\n",
        "y_pred = []\n",
        "for item in range(X_test.shape[0]):\n",
        "    y_pred.append(model.predict(X_test[item].toarray(), verbose=0))"
      ],
      "execution_count": null,
      "outputs": []
    },
    {
      "cell_type": "code",
      "metadata": {
        "id": "IKkvrFs4tHqC"
      },
      "source": [
        "from sklearn.metrics import accuracy_score, precision_score, recall_score\n",
        "# Map continuous output to binary values\n",
        "newList = [item.tolist()[0][0] for item in np.array(y_pred)]\n",
        "y_pred = np.asarray(newList)\n",
        "y_pred[y_pred <= 0.5] = 0\n",
        "y_pred[y_pred > 0.5] = 1\n",
        "\n",
        "wo_embed_nn_acc = accuracy_score(y_test, y_pred)\n",
        "wo_embed_nn_prec = precision_score(y_test, y_pred, average='macro')\n",
        "wo_embed_nn_recall = recall_score(y_test, y_pred, average='macro')\n",
        "print('Accuracy:\\t', wo_embed_nn_acc)\n",
        "print('Precision:\\t', wo_embed_nn_prec)\n",
        "print('Recall:\\t\\t', wo_embed_nn_recall)"
      ],
      "execution_count": null,
      "outputs": []
    },
    {
      "cell_type": "code",
      "metadata": {
        "id": "yhWElNb3DZUs"
      },
      "source": [
        "model.save(\"NN_model_no_embeddings_final.h5\")"
      ],
      "execution_count": null,
      "outputs": []
    }
  ]
}