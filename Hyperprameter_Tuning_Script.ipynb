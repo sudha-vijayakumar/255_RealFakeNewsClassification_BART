{
  "nbformat": 4,
  "nbformat_minor": 0,
  "metadata": {
    "colab": {
      "name": "Hyperprameter_Tuning_Fake_News_Classification.ipynb",
      "provenance": [],
      "collapsed_sections": []
    },
    "kernelspec": {
      "display_name": "Python 3",
      "name": "python3"
    }
  },
  "cells": [
    {
      "cell_type": "code",
      "metadata": {
        "id": "ADR37IgSO9Av"
      },
      "source": [
        "from sklearn.model_selection import train_test_split\n",
        "from sklearn.decomposition import PCA\n",
        "from sklearn.metrics import precision_score\n",
        "from sklearn.metrics import recall_score\n",
        "import matplotlib.pyplot as plt\n",
        "import pandas as pd"
      ],
      "execution_count": null,
      "outputs": []
    },
    {
      "cell_type": "markdown",
      "metadata": {
        "id": "Uo7MEI0eecdb"
      },
      "source": [
        "## With Embeddings"
      ]
    },
    {
      "cell_type": "code",
      "metadata": {
        "id": "3EPmEdX_PAIG",
        "colab": {
          "base_uri": "https://localhost:8080/"
        },
        "outputId": "9ed4b845-c615-4fbd-d30f-79ed02648918"
      },
      "source": [
        "!wget \"https://github.com/HAadams/fake_news_dataset/blob/master/bart_doc_embeddings.zip?raw=true\" -O bart_doc_embeddings.zip\n",
        "!unzip bart_doc_embeddings.zip"
      ],
      "execution_count": null,
      "outputs": [
        {
          "output_type": "stream",
          "text": [
            "--2020-11-16 07:52:39--  https://github.com/HAadams/fake_news_dataset/blob/master/bart_doc_embeddings.zip?raw=true\n",
            "Resolving github.com (github.com)... 140.82.114.4\n",
            "Connecting to github.com (github.com)|140.82.114.4|:443... connected.\n",
            "HTTP request sent, awaiting response... 302 Found\n",
            "Location: https://github.com/HAadams/fake_news_dataset/raw/master/bart_doc_embeddings.zip [following]\n",
            "--2020-11-16 07:52:39--  https://github.com/HAadams/fake_news_dataset/raw/master/bart_doc_embeddings.zip\n",
            "Reusing existing connection to github.com:443.\n",
            "HTTP request sent, awaiting response... 302 Found\n",
            "Location: https://media.githubusercontent.com/media/HAadams/fake_news_dataset/master/bart_doc_embeddings.zip [following]\n",
            "--2020-11-16 07:52:39--  https://media.githubusercontent.com/media/HAadams/fake_news_dataset/master/bart_doc_embeddings.zip\n",
            "Resolving media.githubusercontent.com (media.githubusercontent.com)... 151.101.0.133, 151.101.64.133, 151.101.128.133, ...\n",
            "Connecting to media.githubusercontent.com (media.githubusercontent.com)|151.101.0.133|:443... connected.\n",
            "HTTP request sent, awaiting response... 200 OK\n",
            "Length: 390173117 (372M) [application/zip]\n",
            "Saving to: ‘bart_doc_embeddings.zip’\n",
            "\n",
            "bart_doc_embeddings 100%[===================>] 372.10M   156MB/s    in 2.4s    \n",
            "\n",
            "2020-11-16 07:52:48 (156 MB/s) - ‘bart_doc_embeddings.zip’ saved [390173117/390173117]\n",
            "\n",
            "Archive:  bart_doc_embeddings.zip\n",
            "  inflating: bart_doc_embeddings     \n"
          ],
          "name": "stdout"
        }
      ]
    },
    {
      "cell_type": "code",
      "metadata": {
        "id": "bAz-JdfDPD9B"
      },
      "source": [
        "df = pd.read_pickle('bart_doc_embeddings')"
      ],
      "execution_count": null,
      "outputs": []
    },
    {
      "cell_type": "code",
      "metadata": {
        "id": "JTHjmPIEYLyl"
      },
      "source": [
        "target = df['Target']\n",
        "del df['Target']"
      ],
      "execution_count": null,
      "outputs": []
    },
    {
      "cell_type": "code",
      "metadata": {
        "id": "I3I0YJRHYt4z",
        "colab": {
          "base_uri": "https://localhost:8080/",
          "height": 544
        },
        "outputId": "b86de2d1-4b34-40b9-b63c-308093933e46"
      },
      "source": [
        "from sklearn.decomposition import PCA\n",
        "pca = PCA()\n",
        "pca = pca.fit(df)\n",
        "num_features = list(range(20, 1025, 20))\n",
        "variance = [sum(pca.explained_variance_ratio_[:num])/sum(pca.explained_variance_ratio_) for num in num_features]\n",
        "fig, ax = plt.subplots(1, figsize=(10,8))\n",
        "# Plot the first 1000 components only to make the graph more readable\n",
        "ret = plt.plot(num_features, variance)\n",
        "ax.set_title(\"Explained variance over diff feature numbers\", fontsize=20)\n",
        "ax.set_xlabel(\"Number of Features\", fontsize=20)\n",
        "ax.set_ylabel(\"Explained Variance %\", fontsize=20)\n"
      ],
      "execution_count": null,
      "outputs": [
        {
          "output_type": "execute_result",
          "data": {
            "text/plain": [
              "Text(0, 0.5, 'Explained Variance %')"
            ]
          },
          "metadata": {
            "tags": []
          },
          "execution_count": 5
        },
        {
          "output_type": "display_data",
          "data": {
            "image/png": "[encoded data removed]",
            "text/plain": [
              "<Figure size 720x576 with 1 Axes>"
            ]
          },
          "metadata": {
            "tags": [],
            "needs_background": "light"
          }
        }
      ]
    },
    {
      "cell_type": "code",
      "metadata": {
        "id": "Pxo1McRpZS7w"
      },
      "source": [
        "selected_features = 500\n",
        "doc_vectors = PCA(selected_features).fit_transform(df)"
      ],
      "execution_count": null,
      "outputs": []
    },
    {
      "cell_type": "code",
      "metadata": {
        "id": "J_XI5ogDO30I"
      },
      "source": [
        "X_train, X_test, y_train, y_test = train_test_split(df, target, test_size=0.2)"
      ],
      "execution_count": null,
      "outputs": []
    },
    {
      "cell_type": "code",
      "metadata": {
        "id": "qqfqxdr6bIUN",
        "colab": {
          "base_uri": "https://localhost:8080/"
        },
        "outputId": "96703c9d-c22b-4d90-e2e6-0f046b2cecd3"
      },
      "source": [
        "reg = LogisticRegression()\n",
        "reg.fit(X_train, y_train)\n",
        "reg.score(X_test, y_test)"
      ],
      "execution_count": null,
      "outputs": [
        {
          "output_type": "execute_result",
          "data": {
            "text/plain": [
              "0.9405450500556174"
            ]
          },
          "metadata": {
            "tags": []
          },
          "execution_count": 42
        }
      ]
    },
    {
      "cell_type": "markdown",
      "metadata": {
        "id": "S8B1lqFDema5"
      },
      "source": [
        "### Logistic Regression"
      ]
    },
    {
      "cell_type": "code",
      "metadata": {
        "id": "mYTkVkR-LsMD",
        "colab": {
          "base_uri": "https://localhost:8080/"
        },
        "outputId": "b0bc798c-2d13-4194-877d-68fa97c0024b"
      },
      "source": [
        "from sklearn.linear_model import LogisticRegression\n",
        "from sklearn.model_selection import RandomizedSearchCV\n",
        "reg = LogisticRegression()\n",
        "solvers = ['lbfgs', 'newton-cg', 'liblinear']\n",
        "penalty = ['l1', 'l2']\n",
        "c_values = [100, 10, 1.0, 0.1, 0.01]\n",
        "grid = dict(solver=solvers, penalty=penalty, C=c_values)\n",
        "random_search = RandomizedSearchCV(estimator=reg, param_distributions=grid, scoring='accuracy')\n",
        "random_result = random_search.fit(X_train, y_train)"
      ],
      "execution_count": null,
      "outputs": [
        {
          "output_type": "stream",
          "text": [
            "/usr/local/lib/python3.6/dist-packages/sklearn/model_selection/_validation.py:536: FitFailedWarning: Estimator fit failed. The score on this train-test partition for these parameters will be set to nan. Details: \n",
            "ValueError: Solver newton-cg supports only 'l2' or 'none' penalties, got l1 penalty.\n",
            "\n",
            "  FitFailedWarning)\n",
            "/usr/local/lib/python3.6/dist-packages/sklearn/model_selection/_validation.py:536: FitFailedWarning: Estimator fit failed. The score on this train-test partition for these parameters will be set to nan. Details: \n",
            "ValueError: Solver lbfgs supports only 'l2' or 'none' penalties, got l1 penalty.\n",
            "\n",
            "  FitFailedWarning)\n",
            "/usr/local/lib/python3.6/dist-packages/sklearn/model_selection/_validation.py:536: FitFailedWarning: Estimator fit failed. The score on this train-test partition for these parameters will be set to nan. Details: \n",
            "ValueError: Solver lbfgs supports only 'l2' or 'none' penalties, got l1 penalty.\n",
            "\n",
            "  FitFailedWarning)\n",
            "/usr/local/lib/python3.6/dist-packages/sklearn/linear_model/_logistic.py:940: ConvergenceWarning: lbfgs failed to converge (status=1):\n",
            "STOP: TOTAL NO. of ITERATIONS REACHED LIMIT.\n",
            "\n",
            "Increase the number of iterations (max_iter) or scale the data as shown in:\n",
            "    https://scikit-learn.org/stable/modules/preprocessing.html\n",
            "Please also refer to the documentation for alternative solver options:\n",
            "    https://scikit-learn.org/stable/modules/linear_model.html#logistic-regression\n",
            "  extra_warning_msg=_LOGISTIC_SOLVER_CONVERGENCE_MSG)\n",
            "/usr/local/lib/python3.6/dist-packages/sklearn/linear_model/_logistic.py:940: ConvergenceWarning: lbfgs failed to converge (status=1):\n",
            "STOP: TOTAL NO. of ITERATIONS REACHED LIMIT.\n",
            "\n",
            "Increase the number of iterations (max_iter) or scale the data as shown in:\n",
            "    https://scikit-learn.org/stable/modules/preprocessing.html\n",
            "Please also refer to the documentation for alternative solver options:\n",
            "    https://scikit-learn.org/stable/modules/linear_model.html#logistic-regression\n",
            "  extra_warning_msg=_LOGISTIC_SOLVER_CONVERGENCE_MSG)\n",
            "/usr/local/lib/python3.6/dist-packages/sklearn/linear_model/_logistic.py:940: ConvergenceWarning: lbfgs failed to converge (status=1):\n",
            "STOP: TOTAL NO. of ITERATIONS REACHED LIMIT.\n",
            "\n",
            "Increase the number of iterations (max_iter) or scale the data as shown in:\n",
            "    https://scikit-learn.org/stable/modules/preprocessing.html\n",
            "Please also refer to the documentation for alternative solver options:\n",
            "    https://scikit-learn.org/stable/modules/linear_model.html#logistic-regression\n",
            "  extra_warning_msg=_LOGISTIC_SOLVER_CONVERGENCE_MSG)\n",
            "/usr/local/lib/python3.6/dist-packages/sklearn/linear_model/_logistic.py:940: ConvergenceWarning: lbfgs failed to converge (status=1):\n",
            "STOP: TOTAL NO. of ITERATIONS REACHED LIMIT.\n",
            "\n",
            "Increase the number of iterations (max_iter) or scale the data as shown in:\n",
            "    https://scikit-learn.org/stable/modules/preprocessing.html\n",
            "Please also refer to the documentation for alternative solver options:\n",
            "    https://scikit-learn.org/stable/modules/linear_model.html#logistic-regression\n",
            "  extra_warning_msg=_LOGISTIC_SOLVER_CONVERGENCE_MSG)\n",
            "/usr/local/lib/python3.6/dist-packages/sklearn/linear_model/_logistic.py:940: ConvergenceWarning: lbfgs failed to converge (status=1):\n",
            "STOP: TOTAL NO. of ITERATIONS REACHED LIMIT.\n",
            "\n",
            "Increase the number of iterations (max_iter) or scale the data as shown in:\n",
            "    https://scikit-learn.org/stable/modules/preprocessing.html\n",
            "Please also refer to the documentation for alternative solver options:\n",
            "    https://scikit-learn.org/stable/modules/linear_model.html#logistic-regression\n",
            "  extra_warning_msg=_LOGISTIC_SOLVER_CONVERGENCE_MSG)\n",
            "/usr/local/lib/python3.6/dist-packages/sklearn/linear_model/_logistic.py:940: ConvergenceWarning: lbfgs failed to converge (status=1):\n",
            "STOP: TOTAL NO. of ITERATIONS REACHED LIMIT.\n",
            "\n",
            "Increase the number of iterations (max_iter) or scale the data as shown in:\n",
            "    https://scikit-learn.org/stable/modules/preprocessing.html\n",
            "Please also refer to the documentation for alternative solver options:\n",
            "    https://scikit-learn.org/stable/modules/linear_model.html#logistic-regression\n",
            "  extra_warning_msg=_LOGISTIC_SOLVER_CONVERGENCE_MSG)\n"
          ],
          "name": "stderr"
        }
      ]
    },
    {
      "cell_type": "code",
      "metadata": {
        "id": "glLFDGs_Lx_y",
        "colab": {
          "base_uri": "https://localhost:8080/"
        },
        "outputId": "ff87db98-86d9-4458-ab32-cfed324edaa9"
      },
      "source": [
        "print(\"Best: %f using %s\" % (random_result.best_score_, random_result.best_params_))\n",
        "means = random_result.cv_results_['mean_test_score']\n",
        "stds = random_result.cv_results_['std_test_score']\n",
        "params = random_result.cv_results_['params']\n",
        "for mean, stdev, param in zip(means, stds, params):\n",
        "    print(\"%f (%f) with: %r\" % (mean, stdev, param))"
      ],
      "execution_count": null,
      "outputs": [
        {
          "output_type": "stream",
          "text": [
            "Best: 0.940599 using {'solver': 'newton-cg', 'penalty': 'l2', 'C': 10}\n",
            "nan (nan) with: {'solver': 'newton-cg', 'penalty': 'l1', 'C': 0.01}\n",
            "0.935440 (0.001658) with: {'solver': 'lbfgs', 'penalty': 'l2', 'C': 0.01}\n",
            "0.939876 (0.002031) with: {'solver': 'liblinear', 'penalty': 'l2', 'C': 0.1}\n",
            "0.940488 (0.001590) with: {'solver': 'liblinear', 'penalty': 'l2', 'C': 1.0}\n",
            "0.940599 (0.001598) with: {'solver': 'newton-cg', 'penalty': 'l2', 'C': 10}\n",
            "nan (nan) with: {'solver': 'lbfgs', 'penalty': 'l1', 'C': 0.1}\n",
            "0.940599 (0.001681) with: {'solver': 'liblinear', 'penalty': 'l1', 'C': 10}\n",
            "nan (nan) with: {'solver': 'lbfgs', 'penalty': 'l1', 'C': 10}\n",
            "0.940599 (0.001614) with: {'solver': 'lbfgs', 'penalty': 'l2', 'C': 100}\n",
            "0.940502 (0.001573) with: {'solver': 'lbfgs', 'penalty': 'l2', 'C': 1.0}\n"
          ],
          "name": "stdout"
        }
      ]
    },
    {
      "cell_type": "code",
      "metadata": {
        "id": "z-4jrfNqL2MY"
      },
      "source": [
        "y_pred = random_result.predict(X_test)"
      ],
      "execution_count": null,
      "outputs": []
    },
    {
      "cell_type": "code",
      "metadata": {
        "id": "djGe7Y0qL_2L",
        "colab": {
          "base_uri": "https://localhost:8080/"
        },
        "outputId": "ff4a9c0c-2ee7-4a88-d53f-5b82d52c094a"
      },
      "source": [
        "wo_embed_lr_acc = random_result.score(X_test, y_test)\n",
        "wo_embed_lr_prec = precision_score(y_test, y_pred, average='macro')\n",
        "wo_embed_lr_recall = recall_score(y_test, y_pred, average='macro')\n",
        "wo_embed_lr_acc, wo_embed_lr_prec, wo_embed_lr_recall"
      ],
      "execution_count": null,
      "outputs": [
        {
          "output_type": "execute_result",
          "data": {
            "text/plain": [
              "(0.9404338153503893, 0.9403702515366481, 0.9404010250911141)"
            ]
          },
          "metadata": {
            "tags": []
          },
          "execution_count": 46
        }
      ]
    },
    {
      "cell_type": "markdown",
      "metadata": {
        "id": "riDxGg4mMDWj"
      },
      "source": [
        "### Random Forests "
      ]
    },
    {
      "cell_type": "code",
      "metadata": {
        "id": "UNa0vUYhMFRo",
        "colab": {
          "background_save": true
        }
      },
      "source": [
        "from sklearn.ensemble import RandomForestClassifier\n",
        "clf = RandomForestClassifier()\n",
        "bootstrap=[True, False]\n",
        "min_samples_split = [2,5,10,15]\n",
        "max_depth = [5,10,25,30,40,50]\n",
        "max_features = ['auto', 'sqrt']\n",
        "n_estimators = [15, 50, 75, 100, 200]\n",
        "random_grid = {'n_estimators': n_estimators,\n",
        "               'max_features': max_features,\n",
        "               'max_depth': max_depth,\n",
        "               'min_samples_split': min_samples_split,\n",
        "               'bootstrap': bootstrap}\n",
        "rf_grid = RandomizedSearchCV(estimator=clf, param_distributions = random_grid, random_state=42)\n",
        "rf_result = rf_grid.fit(X_train, y_train)"
      ],
      "execution_count": null,
      "outputs": []
    },
    {
      "cell_type": "code",
      "metadata": {
        "id": "HsHMB8OGMKix",
        "colab": {
          "background_save": true
        },
        "outputId": "0ecae3fc-85cf-4c57-d156-ea5330c6b203"
      },
      "source": [
        "print(\"Best: %f using %s\" % (rf_result.best_score_, rf_result.best_params_))\n",
        "means = rf_result.cv_results_['mean_test_score']\n",
        "stds = rf_result.cv_results_['std_test_score']\n",
        "params = rf_result.cv_results_['params']\n",
        "for mean, stdev, param in zip(means, stds, params):\n",
        "    print(\"%f (%f) with: %r\" % (mean, stdev, param))"
      ],
      "execution_count": null,
      "outputs": [
        {
          "output_type": "stream",
          "text": [
            "Best: 0.925916 using {'n_estimators': 200, 'min_samples_split': 15, 'max_features': 'sqrt', 'max_depth': 30, 'bootstrap': False}\n",
            "0.889555 (0.001669) with: {'n_estimators': 100, 'min_samples_split': 10, 'max_features': 'sqrt', 'max_depth': 10, 'bootstrap': True}\n",
            "0.925721 (0.002466) with: {'n_estimators': 200, 'min_samples_split': 10, 'max_features': 'auto', 'max_depth': 40, 'bootstrap': False}\n",
            "0.925818 (0.001706) with: {'n_estimators': 200, 'min_samples_split': 10, 'max_features': 'sqrt', 'max_depth': 30, 'bootstrap': False}\n",
            "0.842696 (0.003633) with: {'n_estimators': 75, 'min_samples_split': 15, 'max_features': 'sqrt', 'max_depth': 5, 'bootstrap': False}\n",
            "0.925916 (0.001504) with: {'n_estimators': 200, 'min_samples_split': 15, 'max_features': 'sqrt', 'max_depth': 30, 'bootstrap': False}\n",
            "0.914305 (0.001669) with: {'n_estimators': 75, 'min_samples_split': 10, 'max_features': 'auto', 'max_depth': 40, 'bootstrap': True}\n",
            "0.843057 (0.003704) with: {'n_estimators': 100, 'min_samples_split': 5, 'max_features': 'sqrt', 'max_depth': 5, 'bootstrap': False}\n",
            "0.888456 (0.003397) with: {'n_estimators': 15, 'min_samples_split': 15, 'max_features': 'auto', 'max_depth': 30, 'bootstrap': False}\n",
            "0.887330 (0.003743) with: {'n_estimators': 75, 'min_samples_split': 15, 'max_features': 'sqrt', 'max_depth': 10, 'bootstrap': True}\n",
            "0.920827 (0.002285) with: {'n_estimators': 75, 'min_samples_split': 2, 'max_features': 'auto', 'max_depth': 50, 'bootstrap': False}\n"
          ],
          "name": "stdout"
        }
      ]
    },
    {
      "cell_type": "code",
      "metadata": {
        "id": "LXnkoygEMbjf",
        "colab": {
          "background_save": true
        }
      },
      "source": [
        "y_pred = rf_result.predict(X_test)"
      ],
      "execution_count": null,
      "outputs": []
    },
    {
      "cell_type": "code",
      "metadata": {
        "id": "OIbjrCpFMcYw",
        "colab": {
          "background_save": true
        },
        "outputId": "ff3a6e96-11ec-438c-8189-6c12908baf31"
      },
      "source": [
        "wo_embed_fr_acc = rf_result.score(X_test, y_test)\n",
        "wo_embed_fr_prec = precision_score(y_test, y_pred, average='macro')\n",
        "wo_embed_fr_recall = recall_score(y_test, y_pred, average='macro')\n",
        "wo_embed_fr_acc, wo_embed_fr_prec, wo_embed_fr_recall"
      ],
      "execution_count": null,
      "outputs": [
        {
          "output_type": "execute_result",
          "data": {
            "text/plain": [
              "(0.9279199110122358, 0.9283087891386721, 0.9275309413616022)"
            ]
          },
          "metadata": {
            "tags": []
          },
          "execution_count": 0
        }
      ]
    },
    {
      "cell_type": "markdown",
      "metadata": {
        "id": "XIjMe1zaMppM"
      },
      "source": [
        "### SVM"
      ]
    },
    {
      "cell_type": "code",
      "metadata": {
        "id": "HO9B-VEiMpAa",
        "colab": {
          "base_uri": "https://localhost:8080/"
        },
        "outputId": "f28c5903-21ba-4edd-c465-ebb3b5b62447"
      },
      "source": [
        "from sklearn.svm import SVC\n",
        "svc = SVC(random_state=47)\n",
        "param_grid = {'C':[0.1, 1],'gamma':[1, 0.1],'kernel':['linear']}\n",
        "sv_grid = RandomizedSearchCV(svc, param_grid, refit=True, verbose=3)\n",
        "sv_results = sv_grid.fit(X_train, y_train)"
      ],
      "execution_count": null,
      "outputs": [
        {
          "output_type": "execute_result",
          "data": {
            "text/plain": [
              "SVC(C=1.0, break_ties=False, cache_size=200, class_weight=None, coef0=0.0,\n",
              "    decision_function_shape='ovr', degree=3, gamma='scale', kernel='rbf',\n",
              "    max_iter=-1, probability=False, random_state=None, shrinking=True,\n",
              "    tol=0.001, verbose=False)"
            ]
          },
          "metadata": {
            "tags": []
          },
          "execution_count": 7
        }
      ]
    },
    {
      "cell_type": "code",
      "metadata": {
        "id": "wMIHWgldfHoV"
      },
      "source": [
        "print(\"Best: %f using %s\" % (sv_results.best_score_, sv_results.best_params_))\n",
        "means = sv_results.cv_results_['mean_test_score']\n",
        "stds = sv_results.cv_results_['std_test_score']\n",
        "params = sv_results.cv_results_['params']\n",
        "for mean, stdev, param in zip(means, stds, params):\n",
        "    print(\"%f (%f) with: %r\" % (mean, stdev, param))"
      ],
      "execution_count": null,
      "outputs": []
    },
    {
      "cell_type": "code",
      "metadata": {
        "id": "9COyR0lXC-be",
        "colab": {
          "base_uri": "https://localhost:8080/"
        },
        "outputId": "8a748989-4661-4fea-e461-42189ad8d4b3"
      },
      "source": [
        "svc.score(X_test, y_test)"
      ],
      "execution_count": null,
      "outputs": [
        {
          "output_type": "execute_result",
          "data": {
            "text/plain": [
              "0.9549499443826474"
            ]
          },
          "metadata": {
            "tags": []
          },
          "execution_count": 8
        }
      ]
    },
    {
      "cell_type": "code",
      "metadata": {
        "id": "-OCjoUHBDAj8"
      },
      "source": [
        "wo_embed_svm_acc = sv_results.score(X_test, y_test)\n",
        "wo_embed_svm_prec = precision_score(y_test, y_pred, average='macro')\n",
        "wo_embed_svm_recall = recall_score(y_test, y_pred, average='macro')\n",
        "wo_embed_svm_acc, wo_embed_svm_prec, wo_embed_svm_recall"
      ],
      "execution_count": null,
      "outputs": []
    },
    {
      "cell_type": "markdown",
      "metadata": {
        "id": "i6EGZEyLfdzh"
      },
      "source": [
        "## Without Embeddings"
      ]
    },
    {
      "cell_type": "code",
      "metadata": {
        "colab": {
          "base_uri": "https://localhost:8080/"
        },
        "id": "ukQ_z5_yfyuL",
        "outputId": "01ef8007-6093-4857-f7a0-7e32d95fc0b5"
      },
      "source": [
        "!wget \"https://raw.githubusercontent.com/HAadams/fake_news_dataset/master/combined_data.zip\" -O combined_data.zip\n",
        "!unzip combined_data.zip"
      ],
      "execution_count": null,
      "outputs": [
        {
          "output_type": "stream",
          "text": [
            "--2020-11-20 02:34:51--  https://raw.githubusercontent.com/HAadams/fake_news_dataset/master/combined_data.zip\n",
            "Resolving raw.githubusercontent.com (raw.githubusercontent.com)... 151.101.0.133, 151.101.64.133, 151.101.128.133, ...\n",
            "Connecting to raw.githubusercontent.com (raw.githubusercontent.com)|151.101.0.133|:443... connected.\n",
            "HTTP request sent, awaiting response... 200 OK\n",
            "Length: 71497977 (68M) [application/zip]\n",
            "Saving to: ‘combined_data.zip’\n",
            "\n",
            "combined_data.zip   100%[===================>]  68.19M  86.7MB/s    in 0.8s    \n",
            "\n",
            "2020-11-20 02:34:52 (86.7 MB/s) - ‘combined_data.zip’ saved [71497977/71497977]\n",
            "\n",
            "Archive:  combined_data.zip\n",
            "  inflating: combined_data.csv       \n"
          ],
          "name": "stdout"
        }
      ]
    },
    {
      "cell_type": "code",
      "metadata": {
        "id": "cONin5otgWd8"
      },
      "source": [
        "df = pd.read_csv('combined_data.csv')"
      ],
      "execution_count": null,
      "outputs": []
    },
    {
      "cell_type": "code",
      "metadata": {
        "id": "7tSSEGs7gamp"
      },
      "source": [
        "from sklearn.feature_extraction.text import TfidfVectorizer\n",
        "text = df['Text']\n",
        "vectorizer = TfidfVectorizer()\n",
        "tf_vector = vectorizer.fit_transform(text)"
      ],
      "execution_count": null,
      "outputs": []
    },
    {
      "cell_type": "code",
      "metadata": {
        "id": "5P5SVX-Lgj_p"
      },
      "source": [
        "text = df['Text'].tolist()\n",
        "y = df['Target'].tolist()\n",
        "from sklearn.model_selection import train_test_split\n",
        "X_train, X_test, y_train, y_test = train_test_split(tf_vector, y, test_size = 0.2, shuffle=True)"
      ],
      "execution_count": null,
      "outputs": []
    },
    {
      "cell_type": "markdown",
      "metadata": {
        "id": "J9G_b6o0ffwh"
      },
      "source": [
        "### Logistic Regression"
      ]
    },
    {
      "cell_type": "code",
      "metadata": {
        "id": "_CXMCOYrffQL"
      },
      "source": [
        "from sklearn.linear_model import LogisticRegression\n",
        "from sklearn.model_selection import RandomizedSearchCV\n",
        "reg = LogisticRegression()\n",
        "solvers = ['lbfgs', 'newton-cg', 'liblinear']\n",
        "penalty = ['l1', 'l2']\n",
        "c_values = [100, 10, 1.0, 0.1, 0.01]\n",
        "grid = dict(solver=solvers, penalty=penalty, C=c_values)\n",
        "random_search = RandomizedSearchCV(estimator=reg, param_distributions=grid, scoring='accuracy')\n",
        "random_result = random_search.fit(X_train, y_train)"
      ],
      "execution_count": null,
      "outputs": []
    },
    {
      "cell_type": "code",
      "metadata": {
        "id": "AiXIetT0g8X8"
      },
      "source": [
        "print(\"Best: %f using %s\" % (random_result.best_score_, random_result.best_params_))\n",
        "means = random_result.cv_results_['mean_test_score']\n",
        "stds = random_result.cv_results_['std_test_score']\n",
        "params = random_result.cv_results_['params']\n",
        "for mean, stdev, param in zip(means, stds, params):\n",
        "    print(\"%f (%f) with: %r\" % (mean, stdev, param))"
      ],
      "execution_count": null,
      "outputs": []
    },
    {
      "cell_type": "code",
      "metadata": {
        "id": "iiZeqXAbg81v"
      },
      "source": [
        "wo_embed_lr_acc = random_result.score(X_test, y_test)\n",
        "wo_embed_lr_prec = precision_score(y_test, y_pred, average='macro')\n",
        "wo_embed_lr_recall = recall_score(y_test, y_pred, average='macro')\n",
        "wo_embed_lr_acc, wo_embed_lr_prec, wo_embed_lr_recall"
      ],
      "execution_count": null,
      "outputs": []
    },
    {
      "cell_type": "markdown",
      "metadata": {
        "id": "m-GOGarRhNCp"
      },
      "source": [
        "### Random Forests"
      ]
    },
    {
      "cell_type": "code",
      "metadata": {
        "id": "8x92F5AEhOrq"
      },
      "source": [
        "from sklearn.ensemble import RandomForestClassifier\n",
        "clf = RandomForestClassifier()\n",
        "bootstrap=[True, False]\n",
        "min_samples_split = [2,5,10,15]\n",
        "max_depth = [5,10,25,30,40,50]\n",
        "max_features = ['auto', 'sqrt']\n",
        "n_estimators = [15, 50, 75, 100, 200]\n",
        "random_grid = {'n_estimators': n_estimators,\n",
        "               'max_features': max_features,\n",
        "               'max_depth': max_depth,\n",
        "               'min_samples_split': min_samples_split,\n",
        "               'bootstrap': bootstrap}\n",
        "rf_grid = RandomizedSearchCV(estimator=clf, param_distributions = random_grid, random_state=42)\n",
        "rf_result = rf_grid.fit(X_train, y_train)"
      ],
      "execution_count": null,
      "outputs": []
    },
    {
      "cell_type": "code",
      "metadata": {
        "id": "WQ-QeFTkhRU5"
      },
      "source": [
        "print(\"Best: %f using %s\" % (rf_result.best_score_, rf_result.best_params_))\n",
        "means = rf_result.cv_results_['mean_test_score']\n",
        "stds = rf_result.cv_results_['std_test_score']\n",
        "params = rf_result.cv_results_['params']\n",
        "for mean, stdev, param in zip(means, stds, params):\n",
        "    print(\"%f (%f) with: %r\" % (mean, stdev, param))"
      ],
      "execution_count": null,
      "outputs": []
    },
    {
      "cell_type": "code",
      "metadata": {
        "id": "kSOLClBuhTmJ"
      },
      "source": [
        "wo_embed_fr_acc = rf_result.score(X_test, y_test)\n",
        "wo_embed_fr_prec = precision_score(y_test, y_pred, average='macro')\n",
        "wo_embed_fr_recall = recall_score(y_test, y_pred, average='macro')\n",
        "wo_embed_fr_acc, wo_embed_fr_prec, wo_embed_fr_recall"
      ],
      "execution_count": null,
      "outputs": []
    },
    {
      "cell_type": "markdown",
      "metadata": {
        "id": "Mp9lnAgXhrsJ"
      },
      "source": [
        "### SVM"
      ]
    },
    {
      "cell_type": "code",
      "metadata": {
        "id": "Fy-yvXYihsdQ"
      },
      "source": [
        "from sklearn.svm import SVC\n",
        "svc = SVC(random_state=47)\n",
        "param_grid = {'C':[0.1, 1],'gamma':[1, 0.1],'kernel':['linear']}\n",
        "sv_grid = RandomizedSearchCV(svc, param_grid, refit=True, verbose=3)\n",
        "sv_results = sv_grid.fit(X_train, y_train)"
      ],
      "execution_count": null,
      "outputs": []
    },
    {
      "cell_type": "code",
      "metadata": {
        "id": "VARxxVDghvB5"
      },
      "source": [
        "print(\"Best: %f using %s\" % (sv_results.best_score_, sv_results.best_params_))\n",
        "means = sv_results.cv_results_['mean_test_score']\n",
        "stds = sv_results.cv_results_['std_test_score']\n",
        "params = sv_results.cv_results_['params']\n",
        "for mean, stdev, param in zip(means, stds, params):\n",
        "    print(\"%f (%f) with: %r\" % (mean, stdev, param))"
      ],
      "execution_count": null,
      "outputs": []
    },
    {
      "cell_type": "code",
      "metadata": {
        "id": "OrIvQjprhxkI"
      },
      "source": [
        "wo_embed_svm_acc = sv_results.score(X_test, y_test)\n",
        "wo_embed_svm_prec = precision_score(y_test, y_pred, average='macro')\n",
        "wo_embed_svm_recall = recall_score(y_test, y_pred, average='macro')\n",
        "wo_embed_svm_acc, wo_embed_svm_prec, wo_embed_svm_recall"
      ],
      "execution_count": null,
      "outputs": []
    }
  ]
}